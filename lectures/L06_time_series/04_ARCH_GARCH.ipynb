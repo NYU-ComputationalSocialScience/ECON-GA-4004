{
 "cells": [
  {
   "cell_type": "markdown",
   "id": "0f1009c4",
   "metadata": {
    "slideshow": {
     "slide_type": "slide"
    }
   },
   "source": [
    "# Common Time Series Models: Conditional Heteroskedasticity"
   ]
  },
  {
   "cell_type": "code",
   "execution_count": null,
   "id": "9081a877",
   "metadata": {
    "slideshow": {
     "slide_type": "-"
    }
   },
   "outputs": [],
   "source": [
    "# !pip install arch"
   ]
  },
  {
   "cell_type": "code",
   "execution_count": null,
   "id": "e142cc76",
   "metadata": {
    "slideshow": {
     "slide_type": "-"
    }
   },
   "outputs": [],
   "source": [
    "import arch\n",
    "import matplotlib.pyplot as plt\n",
    "import numba\n",
    "import numpy as np\n",
    "import pandas as pd\n",
    "\n",
    "from pandas_datareader import DataReader\n",
    "from statsmodels.graphics.tsaplots import plot_acf\n",
    "from statsmodels.tsa.arima.model import ARIMA\n",
    "\n",
    "%matplotlib inline"
   ]
  },
  {
   "cell_type": "markdown",
   "id": "7c1bd166",
   "metadata": {
    "slideshow": {
     "slide_type": "slide"
    }
   },
   "source": [
    "## NASDAQ Returns\n",
    "\n",
    "Recall our daily NASDAQ stock price data"
   ]
  },
  {
   "cell_type": "code",
   "execution_count": null,
   "id": "e66619c5",
   "metadata": {
    "slideshow": {
     "slide_type": "-"
    }
   },
   "outputs": [],
   "source": [
    "nasdaq = DataReader(\"NASDAQCOM\", \"fred\", 2000, 2021).dropna()"
   ]
  },
  {
   "cell_type": "code",
   "execution_count": null,
   "id": "c212ed4e",
   "metadata": {
    "slideshow": {
     "slide_type": "-"
    }
   },
   "outputs": [],
   "source": [
    "nasdaq.plot(figsize=(8, 6))"
   ]
  },
  {
   "cell_type": "markdown",
   "id": "5bd634e4",
   "metadata": {
    "slideshow": {
     "slide_type": "fragment"
    }
   },
   "source": [
    "We would like to convert it into returns"
   ]
  },
  {
   "cell_type": "code",
   "execution_count": null,
   "id": "524e0f2c",
   "metadata": {
    "slideshow": {
     "slide_type": "-"
    }
   },
   "outputs": [],
   "source": [
    "returns = np.log(nasdaq).diff().dropna()"
   ]
  },
  {
   "cell_type": "code",
   "execution_count": null,
   "id": "7beed507",
   "metadata": {
    "slideshow": {
     "slide_type": "-"
    }
   },
   "outputs": [],
   "source": [
    "returns.plot()"
   ]
  },
  {
   "cell_type": "markdown",
   "id": "0d8723c1",
   "metadata": {
    "slideshow": {
     "slide_type": "subslide"
    }
   },
   "source": [
    "### Heteroskedasticity\n",
    "\n",
    "We differenced the data previously and noticed that the mean seemed to be close to constant, but that the variance seemed to vary which made the data non-stationary.\n",
    "\n",
    "Is there a way to account for this?"
   ]
  },
  {
   "cell_type": "markdown",
   "id": "ef50020a",
   "metadata": {
    "slideshow": {
     "slide_type": "fragment"
    }
   },
   "source": [
    "Yes! Or we wouldn't be discussing it!"
   ]
  },
  {
   "cell_type": "markdown",
   "id": "a20bbd8c",
   "metadata": {
    "slideshow": {
     "slide_type": "slide"
    }
   },
   "source": [
    "## ARCH: Autoregressive conditional heteroskedasticity\n",
    "\n",
    "Let $\\{Y_t\\}$ follow some AR(p) process but we now allow for the variance to be time-varying:\n",
    "\n",
    "\\begin{align*}\n",
    "  Y_{t+1} &= \\mu + \\sum_j (\\rho_j Y_{t-j}) + \\sigma_t \\varepsilon_{t+1} \\\\\n",
    "\\end{align*}\n",
    "\n",
    "We specify the process for $\\sigma_t$ to be\n",
    "\n",
    "\\begin{align*}\n",
    "  \\sigma^2_t = \\alpha_0 + \\sum_{j=1}^q \\alpha_j \\varepsilon^2_{t-j}\n",
    "\\end{align*}\n",
    "\n",
    "with $\\alpha_j > 0$"
   ]
  },
  {
   "cell_type": "code",
   "execution_count": null,
   "id": "de1193ad",
   "metadata": {
    "slideshow": {
     "slide_type": "-"
    }
   },
   "outputs": [],
   "source": [
    "@numba.jit(nopython=True)\n",
    "def simulate_ARCH(T, mu, rho, alphas):\n",
    "    qSig = alphas.shape[0]\n",
    "\n",
    "    Yt = np.zeros(T)\n",
    "    sigma2t = np.zeros(T) + alphas[0]\n",
    "    epsilont = np.random.randn(T + qSig)\n",
    "    for t in range(1, T):\n",
    "        # Just going to stick with AR(1) for now...\n",
    "        Yt[t] = (1 - rho)*mu + rho*Yt[t-1] + np.sqrt(sigma2t[t-1])*epsilont[qSig+t]\n",
    "\n",
    "        value = 0.0\n",
    "        for j in range(qSig):\n",
    "            value += alphas[1+j]*epsilont[qSig+t-j-1]*epsilont[qSig+t-j-1]\n",
    "        sigma2t[t] = alphas[0] + value\n",
    "    \n",
    "    return Yt, epsilont[qSig:], sigma2t"
   ]
  },
  {
   "cell_type": "code",
   "execution_count": null,
   "id": "261e1095",
   "metadata": {
    "slideshow": {
     "slide_type": "-"
    }
   },
   "outputs": [],
   "source": [
    "alphas = np.hstack([\n",
    "    [1.5], [0.15*0.95**j for j in range(20)]\n",
    "])\n",
    "Yt, eps, sigma2t = simulate_ARCH(5000, 0.0, 0.0, alphas)\n",
    "\n",
    "fig, ax = plt.subplots(2, figsize=(8, 6))\n",
    "\n",
    "ax[0].plot(Yt)\n",
    "ax[1].plot(sigma2t)"
   ]
  },
  {
   "cell_type": "markdown",
   "id": "a791eaa8",
   "metadata": {
    "slideshow": {
     "slide_type": "slide"
    }
   },
   "source": [
    "## GARCH: Generalized autoregressive conditional heteroskedasticity\n",
    "\n",
    "We continue to let $\\{Y_{t+1}\\}$ to follow some AR(p) process.\n",
    "\n",
    "\\begin{align*}\n",
    "  Y_{t+1} &= \\mu + \\sum_j (\\rho_j Y_{t-j}) + \\sigma_t \\varepsilon_{t+1} \\\\\n",
    "\\end{align*}\n",
    "\n",
    "but now we specify the process for $\\sigma_t$ to be an ARMA(p, q) process\n",
    "\n",
    "\\begin{align*}\n",
    "  \\sigma_t = \\alpha_0 + \\sum_{j=1}^q \\alpha_j \\varepsilon_{t-j} + \\sum_{j=1}^p \\beta_j \\sigma_{t-j}\n",
    "\\end{align*}\n",
    "\n",
    "with $\\alpha_j > 0$\n",
    "\n",
    "**Beware**: Some packages use different $p$ and $q$ notation than we have -- Read documentation to ensure that they don't mean the opposite of what we've done."
   ]
  },
  {
   "cell_type": "markdown",
   "id": "15ef398d",
   "metadata": {
    "slideshow": {
     "slide_type": "slide"
    }
   },
   "source": [
    "### Fitting NASDAQ data\n"
   ]
  },
  {
   "cell_type": "markdown",
   "id": "9c6171cc",
   "metadata": {
    "slideshow": {
     "slide_type": "fragment"
    }
   },
   "source": [
    "Unscaled returns"
   ]
  },
  {
   "cell_type": "code",
   "execution_count": null,
   "id": "bb613620",
   "metadata": {
    "slideshow": {
     "slide_type": "-"
    }
   },
   "outputs": [],
   "source": [
    "mu = nasdaq[\"NASDAQCOM\"].mean()\n",
    "arch_model = arch.arch_model(returns[\"NASDAQCOM\"] - mu)\n",
    "res = arch_model.fit()\n",
    "print(res.summary())"
   ]
  },
  {
   "cell_type": "code",
   "execution_count": null,
   "id": "afb1c82e",
   "metadata": {},
   "outputs": [],
   "source": [
    "(returns - mu).plot()"
   ]
  },
  {
   "cell_type": "code",
   "execution_count": null,
   "id": "039ad371",
   "metadata": {
    "slideshow": {
     "slide_type": "-"
    }
   },
   "outputs": [],
   "source": [
    "res.plot();"
   ]
  },
  {
   "cell_type": "markdown",
   "id": "746699e8",
   "metadata": {
    "slideshow": {
     "slide_type": "fragment"
    }
   },
   "source": [
    "Scaling the returns"
   ]
  },
  {
   "cell_type": "code",
   "execution_count": null,
   "id": "5496a345",
   "metadata": {
    "slideshow": {
     "slide_type": "-"
    }
   },
   "outputs": [],
   "source": [
    "mu = nasdaq[\"NASDAQCOM\"].mean()\n",
    "arch_model = arch.arch_model(100*(returns[\"NASDAQCOM\"] - mu))\n",
    "res = arch_model.fit()\n",
    "print(res.summary())"
   ]
  },
  {
   "cell_type": "code",
   "execution_count": null,
   "id": "433270f0",
   "metadata": {
    "slideshow": {
     "slide_type": "-"
    }
   },
   "outputs": [],
   "source": [
    "res.plot();"
   ]
  },
  {
   "cell_type": "markdown",
   "id": "48ec66c0",
   "metadata": {
    "slideshow": {
     "slide_type": "fragment"
    }
   },
   "source": [
    "Varying the parameters"
   ]
  },
  {
   "cell_type": "code",
   "execution_count": null,
   "id": "fa1dc307",
   "metadata": {
    "slideshow": {
     "slide_type": "-"
    }
   },
   "outputs": [],
   "source": [
    "mu = nasdaq[\"NASDAQCOM\"].mean()\n",
    "# Scaled - Note that p corresponds to MA terms and q corresponds to the AR terms\n",
    "arch_model = arch.arch_model(100*(returns[\"NASDAQCOM\"] - mu), p=1, q=1)\n",
    "res = arch_model.fit()\n",
    "print(res.summary())"
   ]
  },
  {
   "cell_type": "code",
   "execution_count": null,
   "id": "be2d9bcf",
   "metadata": {},
   "outputs": [],
   "source": [
    "res.plot();"
   ]
  },
  {
   "cell_type": "code",
   "execution_count": null,
   "id": "00d7387a",
   "metadata": {},
   "outputs": [],
   "source": []
  }
 ],
 "metadata": {
  "celltoolbar": "Slideshow",
  "kernelspec": {
   "display_name": "Python 3",
   "language": "python",
   "name": "python3"
  },
  "language_info": {
   "codemirror_mode": {
    "name": "ipython",
    "version": 3
   },
   "file_extension": ".py",
   "mimetype": "text/x-python",
   "name": "python",
   "nbconvert_exporter": "python",
   "pygments_lexer": "ipython3",
   "version": "3.8.8"
  }
 },
 "nbformat": 4,
 "nbformat_minor": 5
}
