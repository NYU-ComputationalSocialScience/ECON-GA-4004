{
 "cells": [
  {
   "cell_type": "markdown",
   "id": "3a1e6009",
   "metadata": {
    "slideshow": {
     "slide_type": "slide"
    }
   },
   "source": [
    "# Factor Models"
   ]
  },
  {
   "cell_type": "code",
   "execution_count": null,
   "id": "1809edc8",
   "metadata": {
    "slideshow": {
     "slide_type": "-"
    }
   },
   "outputs": [],
   "source": [
    "import matplotlib.pyplot as plt\n",
    "import numpy as np\n",
    "import pandas as pd\n",
    "import statsmodels.api as sm\n",
    "import yfinance as yf \n",
    "\n",
    "%matplotlib inline"
   ]
  },
  {
   "cell_type": "markdown",
   "id": "0ed82b78",
   "metadata": {
    "slideshow": {
     "slide_type": "slide"
    }
   },
   "source": [
    "## Financial data\n",
    "\n",
    "We are going to consider three \"classes\" of companies:\n",
    "\n",
    "* Clothing companies\n",
    "* Finance companies\n",
    "* Tech companies"
   ]
  },
  {
   "cell_type": "code",
   "execution_count": null,
   "id": "68e5dc55",
   "metadata": {
    "slideshow": {
     "slide_type": "-"
    }
   },
   "outputs": [],
   "source": [
    "# Clothing\n",
    "clothing_tickers = [\"NKE\", \"RL\"]\n",
    "\n",
    "# Finance\n",
    "finance_tickers = [\"CME\", \"JPM\"]\n",
    "\n",
    "# Tech\n",
    "tech_tickers = [\"AAPL\", \"GOOGL\"]\n",
    "\n",
    "all_tickers = (\n",
    "    clothing_tickers + finance_tickers + tech_tickers\n",
    ")\n",
    "data = yf.download(\n",
    "    tickers=all_tickers,\n",
    "    start=\"2005-01-01\",\n",
    "    end=\"2021-05-01\",\n",
    "    interval=\"1wk\"\n",
    ")\n",
    "data_ac = data[\"Adj Close\"].resample(\"1W\").first()"
   ]
  },
  {
   "cell_type": "markdown",
   "id": "fb67fa13",
   "metadata": {
    "slideshow": {
     "slide_type": "subslide"
    }
   },
   "source": [
    "### Plot prices"
   ]
  },
  {
   "cell_type": "code",
   "execution_count": null,
   "id": "7b4d124c",
   "metadata": {},
   "outputs": [],
   "source": [
    "# Normalize everyone to the same scale by dividing\n",
    "# by their initial price\n",
    "data_ac_norm = data_ac.divide(data_ac.iloc[0, :], axis=1)\n",
    "\n",
    "# Figure\n",
    "fig, ax = plt.subplots(3, figsize=(12, 8))\n",
    "\n",
    "sectors = [clothing_tickers, finance_tickers, tech_tickers]\n",
    "titles = [\"Clothing\", \"Finance\", \"Technology\"]\n",
    "for (i, sector) in enumerate(sectors):\n",
    "    ax[i].set_title(titles[i])\n",
    "    for company in sector:\n",
    "        ax[i].plot(data_ac_norm.index, data_ac_norm.loc[:, company])\n",
    "        ax[i].spines[\"right\"].set_visible(False)\n",
    "        ax[i].spines[\"top\"].set_visible(False)\n",
    "\n",
    "fig.tight_layout()"
   ]
  },
  {
   "cell_type": "markdown",
   "id": "7f3ed557",
   "metadata": {
    "slideshow": {
     "slide_type": "subslide"
    }
   },
   "source": [
    "### Correlations"
   ]
  },
  {
   "cell_type": "code",
   "execution_count": null,
   "id": "e6ec9c24",
   "metadata": {
    "slideshow": {
     "slide_type": "-"
    }
   },
   "outputs": [],
   "source": [
    "np.log(data_ac).diff().loc[:, all_tickers].corr()"
   ]
  },
  {
   "cell_type": "markdown",
   "id": "f8fea91e",
   "metadata": {
    "slideshow": {
     "slide_type": "slide"
    }
   },
   "source": [
    "## Factor model\n",
    "\n",
    "We are going to propose a particular state space model to try and explain the financial data we observe by using a small number of unobserved factors.\n",
    "\n",
    "Define our state space model as:\n",
    "\n",
    "\\begin{align*}\n",
    "  \\lambda_{t} &= A \\lambda_{t-1} + \\eta_t \\\\\n",
    "  p_{i, t} &= G_i \\lambda_t + \\varepsilon_{i, t} \\\\\n",
    "  \\eta_t &\\sim N(0, I) \\\\\n",
    "  \\varepsilon_t &\\sim N(0, \\Sigma)\n",
    "\\end{align*}\n"
   ]
  },
  {
   "cell_type": "markdown",
   "id": "1ba41f11",
   "metadata": {
    "slideshow": {
     "slide_type": "fragment"
    }
   },
   "source": [
    "Note: If we stack our $p_{i, t}$ values, we wind up with\n",
    "\n",
    "$$P_t = G \\lambda_t + \\varepsilon_t$$\n",
    "\n",
    "where $G \\equiv \\begin{bmatrix} G_1 \\\\ G_2 \\\\ \\vdots \\\\ G_I \\end{bmatrix}$, $\\varepsilon_t \\equiv \\begin{bmatrix} \\varepsilon_1 \\\\ \\varepsilon_2 \\\\ \\vdots \\\\ \\varepsilon_I \\end{bmatrix}$"
   ]
  },
  {
   "cell_type": "markdown",
   "id": "32ba02d0",
   "metadata": {
    "slideshow": {
     "slide_type": "subslide"
    }
   },
   "source": [
    "### Estimating with `statsmodels`\n",
    "\n",
    "The `statsmodels` package has a `DynamicFactorMQ` class that allows us to estimate such a model using a version of the EM algorithm.\n",
    "\n",
    "Additionally, another cool feature of the `DynamicFactorMQ` class is that it supports data at varying frequencies. For example, the Federal Reserve obtains labor data at a monthly frequency but national account data at a quarterly frequency. The ability to combine frequencies allows us to update our beliefs more frequently than quarterly."
   ]
  },
  {
   "cell_type": "code",
   "execution_count": null,
   "id": "b41f878e",
   "metadata": {
    "slideshow": {
     "slide_type": "fragment"
    }
   },
   "outputs": [],
   "source": [
    "# Often recommend to normalize your data to mean 0 standard deviation 1\n",
    "df = 100*np.log(data_ac).diff().dropna()\n",
    "df_std = df.apply(\n",
    "    lambda x: (x - x.mean()) / x.std()\n",
    ")"
   ]
  },
  {
   "cell_type": "code",
   "execution_count": null,
   "id": "380c6426",
   "metadata": {
    "slideshow": {
     "slide_type": "-"
    }
   },
   "outputs": [],
   "source": [
    "# Build and fit dynamic factor model using\n",
    "# an EM algorithm\n",
    "mod = sm.tsa.DynamicFactorMQ(\n",
    "    df, factors=3, factor_orders=1\n",
    ")\n",
    "\n",
    "res = mod.fit(disp=10)"
   ]
  },
  {
   "cell_type": "code",
   "execution_count": null,
   "id": "121c9060",
   "metadata": {
    "slideshow": {
     "slide_type": "fragment"
    }
   },
   "outputs": [],
   "source": [
    "res.summary()"
   ]
  },
  {
   "cell_type": "code",
   "execution_count": null,
   "id": "7beeee87",
   "metadata": {
    "slideshow": {
     "slide_type": "fragment"
    }
   },
   "outputs": [],
   "source": [
    "fig, ax = plt.subplots(4, figsize=(12, 8))\n",
    "\n",
    "company = all_tickers[4]\n",
    "ax[0].set_title(company)\n",
    "ax[0].plot(df.index, df.loc[:, company])\n",
    "ax[0].spines[\"right\"].set_visible(False)\n",
    "ax[0].spines[\"top\"].set_visible(False)\n",
    "a\n",
    "for factor_i in range(1, 4):\n",
    "    ax[factor_i].set_title(f\"Factor {factor_i}\")\n",
    "    ax[factor_i].plot(\n",
    "        df.index,\n",
    "        res.factors[\"smoothed\"].loc[:, str(factor_i-1)]\n",
    "    )\n",
    "    ax[factor_i].spines[\"right\"].set_visible(False)\n",
    "    ax[factor_i].spines[\"top\"].set_visible(False)\n",
    "\n",
    "fig.tight_layout()"
   ]
  },
  {
   "cell_type": "markdown",
   "id": "6392eccb",
   "metadata": {},
   "source": [
    "### Appendix: NY Fed Nowcasting\n",
    "\n",
    "* [Nowcasting report](https://www.newyorkfed.org/research/policy/nowcast)\n",
    "* [Nowcasting methodology](https://www.newyorkfed.org/research/policy/nowcast/methodology.html)\n",
    "* [Nowcasting paper](https://www.newyorkfed.org/research/staff_reports/sr830)"
   ]
  }
 ],
 "metadata": {
  "celltoolbar": "Slideshow",
  "kernelspec": {
   "display_name": "Python 3",
   "language": "python",
   "name": "python3"
  },
  "language_info": {
   "codemirror_mode": {
    "name": "ipython",
    "version": 3
   },
   "file_extension": ".py",
   "mimetype": "text/x-python",
   "name": "python",
   "nbconvert_exporter": "python",
   "pygments_lexer": "ipython3",
   "version": "3.8.3"
  }
 },
 "nbformat": 4,
 "nbformat_minor": 5
}
