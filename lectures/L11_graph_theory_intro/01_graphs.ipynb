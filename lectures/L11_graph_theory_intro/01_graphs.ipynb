{
 "cells": [
  {
   "cell_type": "markdown",
   "metadata": {
    "slideshow": {
     "slide_type": "slide"
    }
   },
   "source": [
    "# Graphs\n",
    "\n",
    "**Prerequisites**\n",
    "\n",
    "- Python Setup\n",
    "\n",
    "**Outcomes**\n",
    "\n",
    "- Understand key components of networks/graphs\n",
    "- Use the networkx package for working with graphs in Python\n",
    "- Implement the breadth-first search algorithm\n",
    "\n",
    "**References**\n",
    "\n",
    "- [Easley and Kleinberg](https://www.cs.cornell.edu/home/kleinber/networks-book/) chapter 2"
   ]
  },
  {
   "cell_type": "markdown",
   "metadata": {
    "slideshow": {
     "slide_type": "slide"
    },
    "tags": []
   },
   "source": [
    "## Why Study Graphs?\n",
    "- Economic, cultural, political, and social interactions are influenced by *structure* of relationships\n",
    "  - Transmission of viruses\n",
    "  - International trade, supply chains, marketplaces\n",
    "  - Spread of information, diffusion of innovation\n",
    "  - Political persuasion, localized voting patterns\n",
    "  - Human behaviors influenced by network of friends (sports, clothes, music)\n",
    "- Behaviors can be effected by social networks\n",
    "  - \"Influencers\"\n",
    "  - Circles of followers can create echo chambers"
   ]
  },
  {
   "cell_type": "markdown",
   "metadata": {
    "slideshow": {
     "slide_type": "subslide"
    },
    "tags": []
   },
   "source": [
    "## Edges and Nodes\n",
    "\n",
    "- A **graph** specifies relationships between a collection of items\n",
    "- Each item is called a **node**\n",
    "- A relationship between nodes is represented by an **edge**\n",
    "- Visually, graphs might look like this:\n",
    "\n",
    "![./graph_structure.png](./graph_structure.png)\n",
    "\n",
    "- Here the nodes are `A`, `B`, `C`, `D`\n",
    "- The edges connect nodes `A-B`, `B-C`, `B-D`, `C-D`"
   ]
  },
  {
   "cell_type": "markdown",
   "metadata": {
    "slideshow": {
     "slide_type": "subslide"
    },
    "tags": []
   },
   "source": [
    "## Adjacency Matrix\n",
    "\n",
    "- How might we represent the graph above numerically?\n",
    "- One very common approach is to use a matrix of 0's and 1's called an *adjancency matrix*\n",
    "- Suppose we have a graph of $N$ nodes\n",
    "  - Without loss of generality, we'll represent them as integers `1:N`\n",
    "- Let $A \\in \\{0,1\\}^{N \\times N}$ be our adjacency matrix\n",
    "- Element $A_{ij}$ will be zero unless there is an edge between nodes $i$ and $j$ (diagonal is left as $0$)\n",
    "- In our above we had\n",
    "  - Nodes `A`, `B`, `C`, `D` (or 1, 2, 3, 4 respectively)\n",
    "  - Edges connecting nodes `1-2`, `2-3`, `2-4`, `3-4`\n",
    "- The adjacency matrix for this example is\n",
    "$$A = \\begin{bmatrix}\n",
    "0 & 1 & 0 & 0 \\\\\n",
    "1 & 0 & 1 & 1 \\\\\n",
    "0 & 1 & 0 & 1 \\\\\n",
    "0 & 1 & 1 & 0\n",
    "\\end{bmatrix}$$"
   ]
  },
  {
   "cell_type": "markdown",
   "metadata": {
    "slideshow": {
     "slide_type": "slide"
    },
    "tags": []
   },
   "source": [
    "## Graphs in Python\n",
    "\n",
    "- In Python there are a few ways we could represent our example graph above\n",
    "- We could start with the adjacency matrix concept as follows"
   ]
  },
  {
   "cell_type": "code",
   "execution_count": 1,
   "metadata": {},
   "outputs": [
    {
     "data": {
      "text/plain": [
       "array([[0, 1, 0, 0],\n",
       "       [1, 0, 1, 1],\n",
       "       [0, 1, 0, 1],\n",
       "       [0, 1, 1, 0]])"
      ]
     },
     "execution_count": 1,
     "metadata": {},
     "output_type": "execute_result"
    }
   ],
   "source": [
    "import numpy as np\n",
    "\n",
    "A = np.array([[0, 1, 0, 0], [1, 0, 1, 1], [0, 1, 0, 1], [0, 1, 1, 0]])\n",
    "A"
   ]
  },
  {
   "cell_type": "markdown",
   "metadata": {
    "slideshow": {
     "slide_type": "subslide"
    },
    "tags": []
   },
   "source": [
    "### Working with Adjacency Matrices\n",
    "\n",
    "- An adjacency matrix gives us a lot of information about the structure of the graph\n",
    "- We could compute all of the following\n",
    "  - Total number of nodes: number of rows or columns of $A$\n",
    "  - Total number of edges: $\\sum_{ij} A_{ij}$\n",
    "  - Node with most edges: $\\text{argmax}_{i} \\sum_{j} A_{i,j}$\n",
    "  - Average number of edges per node: $N \\cdot \\sum_{i,j} A_{i,j}$\n"
   ]
  },
  {
   "cell_type": "markdown",
   "metadata": {
    "slideshow": {
     "slide_type": "subslide"
    },
    "tags": []
   },
   "source": [
    "### Exercise: Adjacency Matrix\n",
    "\n",
    "- In the cell below we have defined an adjacency matrix called `A_ex1`\n",
    "- Using `A_ex1` answer the following questions:\n",
    "  - How many nodes are in the graph?\n",
    "  - How many edges?\n",
    "  - Node with most edges (hint, use the `dims` argument to `sum` and then the `argmax` function)\n",
    "  - Average number of edges per node\n",
    "  - Number of connections for node 7: $\\sum_j A_{j7}$"
   ]
  },
  {
   "cell_type": "code",
   "execution_count": 2,
   "metadata": {},
   "outputs": [],
   "source": [
    "def random_adjacency_matrix(n):\n",
    "    out = np.random.randint(0, 2, size=(n, n))\n",
    "    # remove diagonal elements -- no self edges\n",
    "    np.fill_diagonal(out, 0)\n",
    "\n",
    "    # make symmetric\n",
    "    out = (out + out.T) // 2\n",
    "    return out\n",
    "\n",
    "A_ex1 = random_adjacency_matrix(30)\n"
   ]
  },
  {
   "cell_type": "markdown",
   "metadata": {
    "slideshow": {
     "slide_type": "slide"
    },
    "tags": []
   },
   "source": [
    "## Networkx\n",
    "\n",
    "- Python has excellent support for working with graphs\n",
    "- There are a variety of packages, but the most popular is the [networkx](https://networkx.github.io) package\n",
    "-  We can use our adjacency matrix to create a Graph using networkx\n"
   ]
  },
  {
   "cell_type": "code",
   "execution_count": 3,
   "metadata": {},
   "outputs": [],
   "source": [
    "import networkx as nx"
   ]
  },
  {
   "cell_type": "code",
   "execution_count": 4,
   "metadata": {},
   "outputs": [],
   "source": [
    "g1 = nx.convert_matrix.from_numpy_array(A)"
   ]
  },
  {
   "cell_type": "code",
   "execution_count": 5,
   "metadata": {},
   "outputs": [
    {
     "data": {
      "text/plain": [
       "EdgeView([(0, 1), (1, 2), (1, 3), (2, 3)])"
      ]
     },
     "execution_count": 5,
     "metadata": {},
     "output_type": "execute_result"
    }
   ],
   "source": [
    "g1.edges"
   ]
  },
  {
   "cell_type": "code",
   "execution_count": 6,
   "metadata": {},
   "outputs": [
    {
     "data": {
      "text/plain": [
       "NodeView((0, 1, 2, 3))"
      ]
     },
     "execution_count": 6,
     "metadata": {},
     "output_type": "execute_result"
    }
   ],
   "source": [
    "g1.nodes"
   ]
  },
  {
   "cell_type": "markdown",
   "metadata": {
    "slideshow": {
     "slide_type": "subslide"
    },
    "tags": []
   },
   "source": [
    "- We can use the `nx.draw` function to visualize our graph\n",
    "- Note that the actual placement of the nodes is randomly generated and then tweaked to clearly show all nodes and edges\n",
    "- The important thing is *not* the placement of nodes, but rather their *relative structure*"
   ]
  },
  {
   "cell_type": "code",
   "execution_count": 7,
   "metadata": {},
   "outputs": [
    {
     "data": {
      "image/png": "[encoded data removed]",
      "text/plain": [
       "<Figure size 432x288 with 1 Axes>"
      ]
     },
     "metadata": {},
     "output_type": "display_data"
    }
   ],
   "source": [
    "nx.draw(g1)"
   ]
  },
  {
   "cell_type": "markdown",
   "metadata": {
    "slideshow": {
     "slide_type": "slide"
    },
    "tags": []
   },
   "source": [
    "## Size considerations\n",
    "\n",
    "- Using a numpy array of floats (or ints) to store an adjacency matrix turns out to be a rather costly way to store a graph\n",
    "- In the original example graph we had 4 nodes and 4 edges\n",
    "- To store this we needed to have a 4x4 matrix of 64 bit integers\n",
    "  - This is only 128 bytes in our exapmle,\n",
    "  - But consider a graph of websites and links between them -- that graph would have millions of nodes and edges...\n",
    "- There are a few approaches to reducing this storage cost:\n",
    "  - Only store the upper triangle of the matrix\n",
    "  - Use Boolean ( 1 bit!) instead of int as the array's dtype\n",
    "  - Use a [sparse matrix](https://docs.scipy.org/doc/scipy/reference/sparse.html)\n",
    "  - Store as a `List[EDGES]` (where edges is some container that stores all edges coming out of a single node)"
   ]
  },
  {
   "cell_type": "code",
   "execution_count": 8,
   "metadata": {},
   "outputs": [],
   "source": [
    "A2 = {0: [1], 1: [0, 2, 3], 2: [1, 3], 3: [1, 2]}"
   ]
  },
  {
   "cell_type": "markdown",
   "metadata": {},
   "source": [
    "- It turns out that this is similar to what networkx does internally."
   ]
  },
  {
   "cell_type": "code",
   "execution_count": 9,
   "metadata": {},
   "outputs": [
    {
     "data": {
      "text/plain": [
       "AdjacencyView({0: {1: {'weight': 1}}, 1: {0: {'weight': 1}, 2: {'weight': 1}, 3: {'weight': 1}}, 2: {1: {'weight': 1}, 3: {'weight': 1}}, 3: {1: {'weight': 1}, 2: {'weight': 1}}})"
      ]
     },
     "execution_count": 9,
     "metadata": {},
     "output_type": "execute_result"
    }
   ],
   "source": [
    "g1.adj"
   ]
  },
  {
   "cell_type": "markdown",
   "metadata": {
    "slideshow": {
     "slide_type": "slide"
    },
    "tags": []
   },
   "source": [
    "## Graph Theory Concepts\n",
    "\n",
    "- Let's explore some concepts often used in analysis of graphs"
   ]
  },
  {
   "cell_type": "markdown",
   "metadata": {
    "slideshow": {
     "slide_type": "slide"
    },
    "tags": []
   },
   "source": [
    "### Paths\n",
    "\n",
    "- When studying graphs it is often natural to ask about how things travel or flow across the graph\n",
    "- For example, how information spreads amongst a group of friends, how data travels the internet, how diseases are transmitted from one person to another, and how people navigate a metro subway system\n",
    "- In each of these cases, the flow of things goes from node to node across edges\n",
    "- A flow from one any node to another node is called a **path**"
   ]
  },
  {
   "cell_type": "markdown",
   "metadata": {
    "slideshow": {
     "slide_type": "subslide"
    },
    "tags": []
   },
   "source": [
    "## Arpanet Example\n",
    "\n",
    "- Consider the following Graph of the first iteration of the internet\n",
    "\n",
    "![./arpanet_map.png](./arpanet_map.png)\n",
    "\n",
    "- There are many possible paths through this network\n",
    "- Consider a path from UCSB to MIT: `UCSB-UCLA-RAND-BBN-MIT`\n",
    "- Another possible path from UCSB to MIT is `UCSB-SRI-UTAH-MIT`"
   ]
  },
  {
   "cell_type": "markdown",
   "metadata": {
    "slideshow": {
     "slide_type": "subslide"
    },
    "tags": []
   },
   "source": [
    "## networkx Arpanet\n",
    "\n",
    "- Let's define the Arpanet using networkx as it will be helpful throughout this lecture"
   ]
  },
  {
   "cell_type": "code",
   "execution_count": 10,
   "metadata": {},
   "outputs": [],
   "source": [
    "nodes = {\n",
    "    \"UCSB\": [\"SRI\", \"UCLA\"],\n",
    "    \"SRI\": [\"UCSB\", \"UCLA\", \"STAN\", \"UTAH\"],\n",
    "    \"UCLA\": [\"SRI\", \"UCSB\", \"STAN\", \"RAND\"],\n",
    "    \"STAN\": [\"SRI\", \"UCLA\"],\n",
    "    \"UTAH\": [\"SRI\", \"SDC\", \"MIT\"],\n",
    "    \"SDC\": [\"UTAH\", \"RAND\"],\n",
    "    \"RAND\": [\"UCLA\", \"SDC\", \"BBN\"],\n",
    "    \"MIT\": [\"UTAH\", \"BBN\", \"LINC\"],\n",
    "    \"BBN\": [\"MIT\", \"RAND\", \"HARV\"],\n",
    "    \"LINC\": [\"MIT\", \"CASE\"],\n",
    "    \"CASE\": [\"LINC\", \"CARN\"],\n",
    "    \"CARN\": [\"CASE\", \"HARV\"],\n",
    "    \"HARV\": [\"CARN\", \"BBN\"]\n",
    "}"
   ]
  },
  {
   "cell_type": "code",
   "execution_count": 11,
   "metadata": {
    "tags": []
   },
   "outputs": [],
   "source": [
    "arpa = nx.Graph(nodes)"
   ]
  },
  {
   "cell_type": "code",
   "execution_count": 12,
   "metadata": {
    "slideshow": {
     "slide_type": "subslide"
    },
    "tags": []
   },
   "outputs": [
    {
     "data": {
      "image/png": "[encoded data removed]",
      "text/plain": [
       "<Figure size 864x432 with 1 Axes>"
      ]
     },
     "metadata": {},
     "output_type": "display_data"
    }
   ],
   "source": [
    "import matplotlib.pyplot as plt\n",
    "\n",
    "def plot_arpa(arpa):\n",
    "    pos = nx.spring_layout(arpa, seed=22)\n",
    "    fig, ax = plt.subplots(figsize=(12, 6))\n",
    "    nx.draw_networkx_nodes(arpa, pos, node_size=500, alpha=0.1)\n",
    "    nx.draw_networkx_edges(arpa, pos, alpha=0.7)\n",
    "    nx.draw_networkx_labels(arpa, pos, font_size=14);\n",
    "\n",
    "plot_arpa(arpa)"
   ]
  },
  {
   "cell_type": "markdown",
   "metadata": {
    "slideshow": {
     "slide_type": "slide"
    },
    "tags": []
   },
   "source": [
    "## Cycles\n",
    "\n",
    "- An important concept when analyzing graphs is the concept of a cycle\n",
    "- A cycle is a path that starts and ends at the same node\n",
    "- For the ARPA net, an example cycle is `LINC-CASE-CARN-HARV-BBN-MIT-LINC`\n",
    "- Question... what is the shortest possible cycle in a graph (including all endpoints)?\n",
    "- networkx can tell us if a graph is connected"
   ]
  },
  {
   "cell_type": "code",
   "execution_count": 13,
   "metadata": {},
   "outputs": [
    {
     "data": {
      "text/plain": [
       "True"
      ]
     },
     "execution_count": 13,
     "metadata": {},
     "output_type": "execute_result"
    }
   ],
   "source": [
    "nx.is_connected(arpa)"
   ]
  },
  {
   "cell_type": "markdown",
   "metadata": {
    "slideshow": {
     "slide_type": "subslide"
    },
    "tags": []
   },
   "source": [
    "- It is natural to believe that many real-world networks are connected\n",
    "  - Transportation: you can get to any station\n",
    "  - Internet: you can visit any website\n",
    "- But it is entirely possible to have a non-connected graph\n",
    "  - Social networks (nodes: people, edges: friendships) of college students who different countries\n",
    "  - Suppliers for a textile company vs a microchip manufacturer"
   ]
  },
  {
   "cell_type": "markdown",
   "metadata": {
    "slideshow": {
     "slide_type": "slide"
    },
    "tags": []
   },
   "source": [
    "## Distance\n",
    "\n",
    "- We can extend concept of paths between nodes, to include a notion of distance\n",
    "- The **length** of a path is the number of steps it takes from beginning to end\n",
    "  - `MIT-BBN-RAND-UCLA` has length 3 (starting from `MIT` take three steps before ending at `UCLA`)\n",
    "- The **distance** between two nodes, is the length of the *shortest* path between those nodes\n",
    "- networkx can compute distances using the `shortest_path_length` function\n",
    "- Below we compute the distance between `UCLA` and all nodes"
   ]
  },
  {
   "cell_type": "code",
   "execution_count": 14,
   "metadata": {},
   "outputs": [
    {
     "data": {
      "text/plain": [
       "{'UCLA': 0,\n",
       " 'RAND': 1,\n",
       " 'STAN': 1,\n",
       " 'UCSB': 1,\n",
       " 'SRI': 1,\n",
       " 'BBN': 2,\n",
       " 'UTAH': 2,\n",
       " 'SDC': 2,\n",
       " 'MIT': 3,\n",
       " 'HARV': 3,\n",
       " 'CARN': 4,\n",
       " 'LINC': 4,\n",
       " 'CASE': 5}"
      ]
     },
     "execution_count": 14,
     "metadata": {},
     "output_type": "execute_result"
    }
   ],
   "source": [
    "nx.shortest_path_length(arpa, \"UCLA\")"
   ]
  },
  {
   "cell_type": "markdown",
   "metadata": {
    "slideshow": {
     "slide_type": "slide"
    },
    "tags": []
   },
   "source": [
    "## Breadth-First Search\n",
    "\n",
    "- If asked, how would you go about computing the distance between the `HARV` node and all other nodes?\n",
    "- One iterative approach might be:\n",
    "  - Start with `HARV`: note it is distance zero to `HARV`\n",
    "  - Move on to all nodes directly connected to `HARV`: these are distance 1\n",
    "  - Then move to all nodes connected to nodes that are distance 1 from `HARV` (excluding any you may have already found): declare these to be at distance 2 from `HARV`\n",
    "  - Continue traversing edges until you have visited all nodes\n",
    "- This algorihtm is called **breadth-first search**"
   ]
  },
  {
   "cell_type": "markdown",
   "metadata": {
    "slideshow": {
     "slide_type": "subslide"
    },
    "tags": []
   },
   "source": [
    "### Example: Breadth-First Search from MIT\n",
    "\n",
    "- The image below shows how breadth-first search would proceed for the MIT node\n",
    "\n",
    "![./mit_breadth_first.png](./mit_breadth_first.png)"
   ]
  },
  {
   "cell_type": "markdown",
   "metadata": {
    "slideshow": {
     "slide_type": "subslide"
    },
    "tags": []
   },
   "source": [
    "## Exercise (difficult!): BFS\n",
    "\n",
    "- Now it is time for you to try this out!\n",
    "- Our goal is to use breadth-first search to compute the distance betwen a given node and all other nodes\n",
    "- The return value you end up with should be an `List[List[X]]` (X is the label for a node), where element `i` of the outer list contains all node labels at distance `i` from the starting node\n",
    "- Fill in the logic for the `breadth_first_distances` function below"
   ]
  },
  {
   "cell_type": "code",
   "execution_count": 15,
   "metadata": {
    "nbgrader": {
     "grade": false,
     "grade_id": "cell-9d1d9b446c95dfa8",
     "locked": false,
     "schema_version": 3,
     "solution": true,
     "task": false
    }
   },
   "outputs": [],
   "source": [
    "def breadth_first_distances(g: nx.Graph, start):\n",
    "    out = []\n",
    "    ### BEGIN SOLUTION\n",
    "    visited = {start}\n",
    "    starting_nodes = [start]\n",
    "    while len(visited) != len(g.nodes):\n",
    "        new_nodes = []\n",
    "        for node in starting_nodes:\n",
    "            for neighbor in g.neighbors(node):\n",
    "                if neighbor not in visited:\n",
    "                    new_nodes.append(neighbor)\n",
    "                    visited.add(neighbor)\n",
    "        out.append(new_nodes)\n",
    "        starting_nodes = new_nodes\n",
    "\n",
    "    ### END SOLUTION\n",
    "    return out"
   ]
  },
  {
   "cell_type": "code",
   "execution_count": 16,
   "metadata": {},
   "outputs": [
    {
     "data": {
      "text/plain": [
       "[['UTAH', 'BBN', 'LINC'],\n",
       " ['SRI', 'SDC', 'RAND', 'HARV', 'CASE'],\n",
       " ['UCSB', 'UCLA', 'STAN', 'CARN']]"
      ]
     },
     "execution_count": 16,
     "metadata": {},
     "output_type": "execute_result"
    }
   ],
   "source": [
    "breadth_first_distances(arpa, \"MIT\")"
   ]
  },
  {
   "cell_type": "markdown",
   "metadata": {
    "slideshow": {
     "slide_type": "slide"
    },
    "tags": []
   },
   "source": [
    "## BFS with networkx\n",
    "\n",
    "- The networkx library contains routines implementing breadth-first search\n",
    "- The main function is called `nx.breadth_first_search.bfs_tree`"
   ]
  },
  {
   "cell_type": "code",
   "execution_count": 18,
   "metadata": {},
   "outputs": [
    {
     "data": {
      "text/plain": [
       "<networkx.classes.digraph.DiGraph at 0x7f9a273ec880>"
      ]
     },
     "execution_count": 18,
     "metadata": {},
     "output_type": "execute_result"
    }
   ],
   "source": [
    "bfs_bbn = nx.breadth_first_search.bfs_tree(arpa, \"BBN\")\n",
    "bfs_bbn"
   ]
  },
  {
   "cell_type": "code",
   "execution_count": 19,
   "metadata": {
    "slideshow": {
     "slide_type": "subslide"
    },
    "tags": []
   },
   "outputs": [
    {
     "data": {
      "text/plain": [
       "(13, 12)"
      ]
     },
     "execution_count": 19,
     "metadata": {},
     "output_type": "execute_result"
    }
   ],
   "source": [
    "len(bfs_bbn.nodes), len(bfs_bbn.edges)"
   ]
  },
  {
   "cell_type": "markdown",
   "metadata": {
    "tags": []
   },
   "source": [
    "- Notice that the printout says we have a graph with 13 nodes, 12 edges and it is a **directed** graph\n",
    "- Thus far, all graphs we have considered have been undirected\n",
    "  - We have only been concerned about if a connection (edge) exists between nodes\n",
    "- A directed graph extends the notion of connecting nodes with a direction\n",
    "  - We can now say that *things* flow across edges from one node to another -- always in the same direction\n",
    "- Why would the breadth-first search routine return a directed graph instead of the undirected type we started with?\n",
    "- Let's visualize it and see if we can understand why"
   ]
  },
  {
   "cell_type": "code",
   "execution_count": 20,
   "metadata": {
    "slideshow": {
     "slide_type": "subslide"
    },
    "tags": []
   },
   "outputs": [
    {
     "data": {
      "image/png": "[encoded data removed]",
      "text/plain": [
       "<Figure size 864x432 with 1 Axes>"
      ]
     },
     "metadata": {},
     "output_type": "display_data"
    }
   ],
   "source": [
    "plot_arpa(bfs_bbn)"
   ]
  },
  {
   "cell_type": "markdown",
   "metadata": {},
   "source": [
    "- Notice that arrows only flow *out* of `BBN`\n",
    "- They also always flow *away* from `BBN`\n",
    "- The use of directed edges allows networkx to represent the shortest path from BBN to any other node\n",
    "  - For example `STAN`: `BBN -> RAND -> UCLA -> STAN`"
   ]
  },
  {
   "cell_type": "code",
   "execution_count": 21,
   "metadata": {},
   "outputs": [
    {
     "data": {
      "text/plain": [
       "networkx.classes.digraph.DiGraph"
      ]
     },
     "execution_count": 21,
     "metadata": {},
     "output_type": "execute_result"
    }
   ],
   "source": [
    "type(bfs_bbn)"
   ]
  },
  {
   "cell_type": "markdown",
   "metadata": {
    "slideshow": {
     "slide_type": "subslide"
    },
    "tags": []
   },
   "source": [
    "### Exercise: BFS with NetworkX\n",
    "\n",
    "- The `bfs_bbn.adj` gives a dictionary describing the adjacency pattern in this directed graph\n",
    "- Each key of this dict is a node label\n",
    "- The values of the dict describe which nodes are pointed at by the key\n",
    "-  Below we have set up a new function `bfs_tree_distances` that takes a `DiGraph` as an argument\n",
    "- Your task is to implement the the method so that it has the same return value as the `breadth_first_distances` function above"
   ]
  },
  {
   "cell_type": "code",
   "execution_count": 22,
   "metadata": {
    "nbgrader": {
     "grade": false,
     "grade_id": "bfx-networkx",
     "locked": false,
     "schema_version": 3,
     "solution": true,
     "task": false
    }
   },
   "outputs": [],
   "source": [
    "def bfs_tree_distances(g: nx.DiGraph, start):\n",
    "    out = []\n",
    "\n",
    "    ### BEGIN SOLUTION\n",
    "    to_visit = [start]\n",
    "    while len(to_visit) > 0:\n",
    "        new_nodes = []\n",
    "        for node in to_visit:\n",
    "            new_nodes.extend(list(g.adj[node]))\n",
    "        \n",
    "        if len(new_nodes) > 0:\n",
    "            out.append(new_nodes)\n",
    "        to_visit = new_nodes\n",
    "\n",
    "    ### END SOLUTION\n",
    "    return out"
   ]
  },
  {
   "cell_type": "code",
   "execution_count": 23,
   "metadata": {},
   "outputs": [
    {
     "data": {
      "text/plain": [
       "[['RAND', 'MIT', 'HARV'],\n",
       " ['UCLA', 'SDC', 'UTAH', 'LINC', 'CARN'],\n",
       " ['UCSB', 'SRI', 'STAN', 'CASE']]"
      ]
     },
     "execution_count": 23,
     "metadata": {},
     "output_type": "execute_result"
    }
   ],
   "source": [
    "bfs_tree_distances(bfs_bbn, \"BBN\")"
   ]
  },
  {
   "cell_type": "markdown",
   "metadata": {
    "slideshow": {
     "slide_type": "slide"
    },
    "tags": []
   },
   "source": [
    "## Components\n",
    "\n",
    "- A *component* of a graph is a self-contained subset of the nodes\n",
    "- More precisely, a set of nodes is a component if\n",
    "  1. Every node in the subset has a path to every other node in the subset\n",
    "  2. The subset is not part of a larger set with property (1)\n",
    "- Example:\n",
    "\n",
    "![./graph_components.png](./graph_components.png)"
   ]
  },
  {
   "cell_type": "markdown",
   "metadata": {
    "slideshow": {
     "slide_type": "subslide"
    },
    "tags": []
   },
   "source": [
    "### Example\n",
    "\n",
    "- How many components are in this graph?\n",
    "\n",
    "![./hs_dating_graph.png](./hs_dating_graph.png)"
   ]
  }
 ],
 "metadata": {
  "celltoolbar": "Create Assignment",
  "interpreter": {
   "hash": "06e05088bf2d2704501f452c5673235c92421ea24b381cad1d147a1ece3057ad"
  },
  "kernelspec": {
   "display_name": "css",
   "language": "python",
   "name": "css"
  },
  "language_info": {
   "codemirror_mode": {
    "name": "ipython",
    "version": 3
   },
   "file_extension": ".py",
   "mimetype": "text/x-python",
   "name": "python",
   "nbconvert_exporter": "python",
   "pygments_lexer": "ipython3",
   "version": "3.9.2"
  }
 },
 "nbformat": 4,
 "nbformat_minor": 4
}
