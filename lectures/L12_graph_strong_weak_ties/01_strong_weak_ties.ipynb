{
 "cells": [
  {
   "cell_type": "markdown",
   "metadata": {
    "slideshow": {
     "slide_type": "slide"
    },
    "tags": []
   },
   "source": [
    "# Strong and Weak Ties\n",
    "\n",
    "**Prerequisites**\n",
    "\n",
    "- Introduction to Graphs\n",
    "\n",
    "**Outcomes**\n",
    "\n",
    "- Recognize open and closed triangles in a graph\n",
    "- Understand concept of tradic closure\n",
    "- Be able to identify global and local bridges in a network: visually and programatically\n",
    "- Understand the \"strength of weak ties\"\n",
    "- Be familiar with betwenness centrality and its use in graph partitioning\n",
    "\n",
    "**References**\n",
    "\n",
    "- [Easley and Kleinberg](https://www.cs.cornell.edu/home/kleinber/networks-book/) chapter 3"
   ]
  },
  {
   "cell_type": "markdown",
   "metadata": {
    "slideshow": {
     "slide_type": "slide"
    },
    "tags": []
   },
   "source": [
    "## Granovetter's question\n",
    "\n",
    "- In the late 1960s a PhD student Mark Granovetter wanted to understand how people get a new job\n",
    "- He interviewed many people who recently changed firms and asked how they got their job\n",
    "- Unsurprisingly, people said they got referrals or learned about the job from personal contacts\n",
    "- Surprisingly, most people said the contacts were made via their \"aquaintances\" and not \"friends\"\n",
    "- Why?"
   ]
  },
  {
   "cell_type": "markdown",
   "metadata": {
    "slideshow": {
     "slide_type": "subslide"
    },
    "tags": []
   },
   "source": [
    "### Graphs for Information Flow\n",
    "\n",
    "- To answer Granovetter's question, we'll turn to graphs\n",
    "- As we'll see, this is one of many possible examples of how we can use a graph to study the **flow of information**\n",
    "  - What other examples are there?\n",
    "  - From what sources do you get your information?\n",
    "  - Do you get different *types* of information from different *types* of source? Why?\n",
    "- One interesting point to make in this regard is that by studying information flow via graphs we are making taking something inherently *interpersonal* or emotional (frienships and sharing information) and analyzing it from a *structural* perspective (as a graph)\n",
    "- Keep these themes in mind as we study the theoreitcal/techinical tools\n",
    "- We'll return back to the question Granovetter's question after building up some tools"
   ]
  },
  {
   "cell_type": "markdown",
   "metadata": {
    "slideshow": {
     "slide_type": "slide"
    },
    "tags": []
   },
   "source": [
    "## Triangles\n",
    "\n",
    "- When studying graphs, the smallest possible structure involving more than two nodes is a triangle\n",
    "- Triangles are made up of three nodes and either two or three edges that connect them\n",
    "  - A triangle with only two edges is said to be *open*\n",
    "  - A triangle with three edges is *closed*\n",
    "- In the example below, there are 3 triangles, all of which are open"
   ]
  },
  {
   "cell_type": "code",
   "execution_count": 2,
   "metadata": {},
   "outputs": [],
   "source": [
    "import numpy as np\n",
    "import networkx as nx"
   ]
  },
  {
   "cell_type": "code",
   "execution_count": 3,
   "metadata": {},
   "outputs": [
    {
     "data": {
      "image/png": "[encoded data removed]",
      "text/plain": [
       "<Figure size 432x288 with 1 Axes>"
      ]
     },
     "metadata": {},
     "output_type": "display_data"
    }
   ],
   "source": [
    "g1 = nx.star_graph(\"A B C D\".split())\n",
    "g1.add_node(\"E\")\n",
    "plot_kw = dict(font_size=15, node_color=\"cyan\", node_size=1000, with_labels=True)\n",
    "nx.draw(g1, **plot_kw)"
   ]
  },
  {
   "cell_type": "markdown",
   "metadata": {
    "slideshow": {
     "slide_type": "subslide"
    },
    "tags": []
   },
   "source": [
    "### Social Triangles\n",
    "\n",
    "- Suppose our graph is of students arriving for first year of college\n",
    "- Each node is a student\n",
    "- An edge represents a friendship or connection between students\n",
    "- Story... \n",
    "  - `A` went to and out of school state, but happened to know `B`, `C`, and `D` from various summer camps or family-friend relationships\n",
    "  - None of `B`, `C` and `D` know one another\n",
    "  - `E` is a student from a foreign country who doesn't know any of the other four students\n",
    "- Question: Given only this information, is it more likely that `B` and `E` become friends, or `B` and `C`? Why?"
   ]
  },
  {
   "cell_type": "markdown",
   "metadata": {
    "slideshow": {
     "slide_type": "subslide"
    },
    "tags": []
   },
   "source": [
    "### Closing triangles\n",
    "\n",
    "- In our example graph the only edges are between A and another node\n",
    "- Consider a triangle formed by nodes A, B, C\n",
    "- To *close* this triangle, there would need to be a node between B-C as follows"
   ]
  },
  {
   "cell_type": "code",
   "execution_count": 4,
   "metadata": {},
   "outputs": [
    {
     "data": {
      "image/png": "[encoded data removed]",
      "text/plain": [
       "<Figure size 432x288 with 1 Axes>"
      ]
     },
     "metadata": {},
     "output_type": "display_data"
    }
   ],
   "source": [
    "g2 = g1.copy()\n",
    "g2.add_edge(\"B\", \"C\")\n",
    "nx.draw(g2, **plot_kw)"
   ]
  },
  {
   "cell_type": "markdown",
   "metadata": {
    "slideshow": {
     "slide_type": "subslide"
    },
    "tags": []
   },
   "source": [
    "### Triadic Closure\n",
    "\n",
    "- There is overwhelming empirical evidence to support the intuition that when there are edges A-B and A-C, it is likely that an edge B-C will form\n",
    "    - This means it is more likely that `B-C` forms than `B-E`\n",
    "- This is known as **triadic closure** (closing the final edge of a triangle)\n",
    "- For this reason, when analyzing social network data it is very common to see triangles"
   ]
  },
  {
   "cell_type": "markdown",
   "metadata": {
    "slideshow": {
     "slide_type": "slide"
    },
    "tags": []
   },
   "source": [
    "### Triangles with networkx\n",
    "\n",
    "- There is good support in networkx for helping us count triangles in a graph\n",
    "- The key function is `nx.triangles(g)`\n",
    "- It computes the number of closed triangles each node is a part of"
   ]
  },
  {
   "cell_type": "code",
   "execution_count": 5,
   "metadata": {},
   "outputs": [
    {
     "data": {
      "text/plain": [
       "{'A': 1, 'B': 1, 'C': 1, 'D': 0, 'E': 0}"
      ]
     },
     "execution_count": 5,
     "metadata": {},
     "output_type": "execute_result"
    }
   ],
   "source": [
    "nx.triangles(g2)"
   ]
  },
  {
   "cell_type": "markdown",
   "metadata": {
    "slideshow": {
     "slide_type": "subslide"
    },
    "tags": []
   },
   "source": [
    "### Clustering Coefficients\n",
    "\n",
    "- It is helpful to have a single number summary of how \"closed\" a graphs' triangles are\n",
    "- The **clustering coefficient** tells us the fraction of triangles that are closed\n",
    "- There is a local flavor, where we consider all triangles for a specific node\n",
    "- There is also a global flavor where we consider all triangles for the entire graph\n",
    "- network has functions `nx.clustering(g)` that computes the local clustering coefficient for each node and `nx.transivitiy` that computes the global variant"
   ]
  },
  {
   "cell_type": "code",
   "execution_count": 6,
   "metadata": {
    "tags": []
   },
   "outputs": [
    {
     "data": {
      "text/plain": [
       "{'A': 0.3333333333333333, 'B': 1.0, 'C': 1.0, 'D': 0, 'E': 0}"
      ]
     },
     "execution_count": 6,
     "metadata": {},
     "output_type": "execute_result"
    }
   ],
   "source": [
    "nx.clustering(g2)"
   ]
  },
  {
   "cell_type": "code",
   "execution_count": 7,
   "metadata": {},
   "outputs": [
    {
     "data": {
      "text/plain": [
       "0.6"
      ]
     },
     "execution_count": 7,
     "metadata": {},
     "output_type": "execute_result"
    }
   ],
   "source": [
    "nx.transitivity(g2)"
   ]
  },
  {
   "cell_type": "markdown",
   "metadata": {
    "slideshow": {
     "slide_type": "slide"
    },
    "tags": []
   },
   "source": [
    "## Bridges\n",
    "\n",
    "- Consider the graph below"
   ]
  },
  {
   "cell_type": "code",
   "execution_count": 8,
   "metadata": {},
   "outputs": [
    {
     "data": {
      "image/png": "[encoded data removed]",
      "text/plain": [
       "<Figure size 432x288 with 1 Axes>"
      ]
     },
     "metadata": {},
     "output_type": "display_data"
    }
   ],
   "source": [
    "g3 = nx.barbell_graph(4, 0)\n",
    "nx.draw(g3, **plot_kw)"
   ]
  },
  {
   "cell_type": "markdown",
   "metadata": {},
   "source": [
    "- Now consider `3`\n",
    "- Notice that connection between `3` and any of `0` `1` `2` is somehow different from connection to `4`"
   ]
  },
  {
   "cell_type": "markdown",
   "metadata": {
    "slideshow": {
     "slide_type": "subslide"
    },
    "tags": []
   },
   "source": [
    "- `3-4` is known as a **bridge**\n",
    "  - A *bridge* is an edge that, if removed, would cause the nodes involved to be in different components of the graph"
   ]
  },
  {
   "cell_type": "code",
   "execution_count": 9,
   "metadata": {},
   "outputs": [
    {
     "data": {
      "image/png": "[encoded data removed]",
      "text/plain": [
       "<Figure size 432x288 with 1 Axes>"
      ]
     },
     "metadata": {},
     "output_type": "display_data"
    }
   ],
   "source": [
    "g4 = g3.copy()\n",
    "g4.remove_edge(3, 4)\n",
    "nx.draw(g4, **plot_kw)"
   ]
  },
  {
   "cell_type": "markdown",
   "metadata": {
    "slideshow": {
     "slide_type": "subslide"
    },
    "tags": []
   },
   "source": [
    "### Frequency of bridges\n",
    "\n",
    "- Given our discussion on triadic closure, bridges are likely to be rare in real social networks\n",
    "- It is very likely that an edge will form between `4` and one of `0``1``2`\n",
    "- Even if that isn't the case, consider the possibility that the graph we have been looking at is actually a smaller subset of a larger graph:"
   ]
  },
  {
   "cell_type": "code",
   "execution_count": 10,
   "metadata": {},
   "outputs": [
    {
     "data": {
      "image/png": "[encoded data removed]",
      "text/plain": [
       "<Figure size 432x288 with 1 Axes>"
      ]
     },
     "metadata": {},
     "output_type": "display_data"
    }
   ],
   "source": [
    "g5 = g3.copy()\n",
    "[g5.add_node(i) for i in range(8, 13)]\n",
    "new_edges = [\n",
    "    (0, 8), (3, 8), (8, 9), (8, 10),\n",
    "    (9, 10), (10, 11), (10, 12), (11, 12),\n",
    "    (4, 12), (7, 12)\n",
    "]\n",
    "g5.add_edges_from(new_edges)\n",
    "nx.draw(g5, **plot_kw)\n"
   ]
  },
  {
   "cell_type": "markdown",
   "metadata": {
    "slideshow": {
     "slide_type": "subslide"
    },
    "tags": []
   },
   "source": [
    "### Local Bridges\n",
    "\n",
    "- In the graph above even if `3-4` were broken, there would only be one component in our graph\n",
    "  - In other words there is another path from `3` to `4` (here `3-8-10-12-4`)\n",
    "- Because true bridges are so rare, a looser definition of bridge was created called a *local bridge*\n",
    "- An edge `A-B` is a *local bridge* if `A` and `B` have no edges in common"
   ]
  },
  {
   "cell_type": "markdown",
   "metadata": {
    "slideshow": {
     "slide_type": "subslide"
    },
    "tags": []
   },
   "source": [
    "### Detecting Local Bridges\n",
    "\n",
    "- So far we have dealt with example graphs that we can visually inspect\n",
    "- Most real world graphs are far to large for this\n",
    "- To analyze larger graphs we need computational tools\n",
    "- Let's build up some code that will allow us to find local bridges"
   ]
  },
  {
   "cell_type": "code",
   "execution_count": 11,
   "metadata": {},
   "outputs": [],
   "source": [
    "def num_shared_neighbors(g: nx.Graph, n1, n2):\n",
    "    \"\"\"Compute the number of neighbors that n1 and n2 have in common\n",
    "\n",
    "    Args:\n",
    "        g (nx.Graph): A networkx graph\n",
    "        n1, n2: Node labels\n",
    "    \"\"\"\n",
    "    return len(set(g.neighbors(n1)) & set(g.neighbors(n2)))\n"
   ]
  },
  {
   "cell_type": "markdown",
   "metadata": {
    "slideshow": {
     "slide_type": "subslide"
    },
    "tags": []
   },
   "source": [
    "- Now that we have a function for computing the number of shared neighbors, we can use it to build a routine for finding a local bridge\n",
    "- We'll do that now"
   ]
  },
  {
   "cell_type": "code",
   "execution_count": 12,
   "metadata": {
    "slideshow": {
     "slide_type": "fragment"
    },
    "tags": []
   },
   "outputs": [],
   "source": [
    "def local_bridges(g: nx.Graph):\n",
    "    \"\"\"Find all local bridges  in a graph\n",
    "\n",
    "    Args:\n",
    "        g (nx.Graph): a networkx graph\n",
    "    \"\"\"\n",
    "    return (\n",
    "        (u, v)\n",
    "        for u, v in g.edges()\n",
    "        if num_shared_neighbors(g, u, v) == 0\n",
    "    )"
   ]
  },
  {
   "cell_type": "markdown",
   "metadata": {
    "slideshow": {
     "slide_type": "subslide"
    },
    "tags": []
   },
   "source": [
    "### Example: Twitter connections\n",
    "\n",
    "- Let's now consider an example using real social network data\n",
    "- Below we'll load up a graph called `tw` that is a graph of connections between twitter users\n",
    "- Each node is a different twitter account\n",
    "- There is an edge between nodes if either one of the accounts follows the other"
   ]
  },
  {
   "cell_type": "code",
   "execution_count": 13,
   "metadata": {},
   "outputs": [],
   "source": [
    "tw = nx.read_edgelist(\"./twitter_combined.txt\")"
   ]
  },
  {
   "cell_type": "code",
   "execution_count": 14,
   "metadata": {},
   "outputs": [
    {
     "data": {
      "text/plain": [
       "(81306, 1342310)"
      ]
     },
     "execution_count": 14,
     "metadata": {},
     "output_type": "execute_result"
    }
   ],
   "source": [
    "len(tw.nodes), len(tw.edges)"
   ]
  },
  {
   "cell_type": "markdown",
   "metadata": {},
   "source": [
    "- Notice that there are 81,306 nodes and 1,342,310 edges\n",
    "- This is network is far to big to analyze visually\n",
    "- Let's use a few of our empirical metrics to study the properties of this graph"
   ]
  },
  {
   "cell_type": "code",
   "execution_count": 14,
   "metadata": {},
   "outputs": [
    {
     "data": {
      "text/plain": [
       "0.0037219420253145697"
      ]
     },
     "execution_count": 14,
     "metadata": {},
     "output_type": "execute_result"
    }
   ],
   "source": [
    "%time sum(1 for _ in local_bridges(tw)) / len(tw.edges)"
   ]
  },
  {
   "cell_type": "markdown",
   "metadata": {},
   "source": [
    "Notice how only 0.419% of edges form a local bridge!"
   ]
  },
  {
   "cell_type": "markdown",
   "metadata": {
    "slideshow": {
     "slide_type": "slide"
    },
    "tags": []
   },
   "source": [
    "## Edge Strength\n",
    "\n",
    "- We have so far considered only whether or not two nodes are connected\n",
    "- We have not discussed the strength of these connections\n",
    "- We will now extend our analysis to the notion of an edge representing a strong or a weak tie\n",
    "- In our friendship example, the strong ties would represent friends and the weak ties would represent acquaintances"
   ]
  },
  {
   "cell_type": "markdown",
   "metadata": {
    "slideshow": {
     "slide_type": "subslide"
    },
    "tags": []
   },
   "source": [
    "### Strong and Weak ties\n",
    "\n",
    "- In the figure below, we have a representation of a graph similar to our `g5` where all edges have been annotated with a `S` or a `W`\n",
    "- A `S` edge represents a strong edge, or friendship\n",
    "- A `W` edge represents a weak edge or, or acquaintance\n",
    "  \n",
    "![./strong_weak_ties.png](./strong_weak_ties.png)"
   ]
  },
  {
   "cell_type": "markdown",
   "metadata": {
    "slideshow": {
     "slide_type": "subslide"
    },
    "tags": []
   },
   "source": [
    "### Triadic Closure: Strong Vs Weak\n",
    "\n",
    "- Let's extend the inutition behind triadic closure to our strong/weak setting\n",
    "- Our argument was that because we have edges `A-B` and `A-C`, it is likely that an edge `B-C` will form\n",
    "- Now we'll state that if `A-B` and `A-C` are both strong ties, then it is more likely that `B-C` will form than if either `A-B` or `A-C` were weak\n",
    "- More formally... we have  the *Strong Triadic Closure Property*\n",
    "> We say that a node `A` violates the Strong Triadic Closure Property if it has strong ties to two other nodes `B` and `C`, and there is no edge at all (either a strong or weak tie) between `B` and `C`. We say that a node `A` satisfies the Strong Triadic Closure Property if it does not violate it."
   ]
  },
  {
   "cell_type": "markdown",
   "metadata": {
    "slideshow": {
     "slide_type": "subslide"
    },
    "tags": []
   },
   "source": [
    "### Local Bridges and Weak Ties\n",
    "\n",
    "- Given this definition of the Strong Triadic Closure Property, we can make the following claim (see section 3.2 of E&K for proof, intuition in figure below):\n",
    "> Claim: If a node A in a network satifies the Strong Triadic Closure Property and is involved in at least two strong ties, then any local bridge it is involved in must be a weak tie.\n",
    "\n",
    "![./strong_triadic_closure.png](./strong_triadic_closure.png)"
   ]
  },
  {
   "cell_type": "markdown",
   "metadata": {
    "slideshow": {
     "slide_type": "subslide"
    },
    "tags": []
   },
   "source": [
    "### Back to Granovetter\n",
    "\n",
    "- Recall our original question: why do people report finding jobs through aquantainces (weak ties) more often than close friends (strong ties)?\n",
    "- The Strong Triadic Closure Property gives the answer...\n",
    "- Suppose `A` lost its job\n",
    "  - By asking for a referral from any of `C`, `D`, or `E`; `A` is likely to get a similar set of information as they are strongly connected to one other and likely have access to the same set of information\n",
    "  - Instead by talking to the weak tie `B`, `A` is likely to get new information from people in `B`'s social circle (including `H` and the three unlabeled nodes)\n",
    "- tl;dr: local bridges are weak ties, so it is weak ties that get you access to \"new\" parts of the network\n",
    "\n",
    "![./strong_weak_ties.png](./strong_weak_ties.png)"
   ]
  },
  {
   "cell_type": "markdown",
   "metadata": {
    "slideshow": {
     "slide_type": "slide"
    },
    "tags": []
   },
   "source": [
    "# Graph Partitioning\n",
    "\n",
    "- Social networks often consist of tightly knit regions and weak ties that connect them\n",
    "- One algorithmic problem that has is been studied and applied in many settings is that of graph partitioning\n",
    "- To partition a graph is to break it down into the tightly-knit components\n",
    "- When a graph is partitioned, it is broken down into components called *regions*\n",
    "\n",
    "![./partitioning.png](./partitioning.png)"
   ]
  },
  {
   "cell_type": "code",
   "execution_count": 15,
   "metadata": {
    "slideshow": {
     "slide_type": "subslide"
    },
    "tags": []
   },
   "outputs": [
    {
     "data": {
      "image/png": "[encoded data removed]",
      "text/plain": [
       "<Figure size 432x288 with 1 Axes>"
      ]
     },
     "metadata": {},
     "output_type": "display_data"
    }
   ],
   "source": [
    "g6 = nx.Graph([\n",
    "\t(1,2), (1,3), (2,3), (3,7), (7,6), (6,4), (6,5), (4,5), (7,8),\n",
    "\t(8,9), (9,10), (10,11), (9,11), (8,12), (12,13), (13,14), (12,14)\n",
    "])\n",
    "nx.draw(g6, **plot_kw)"
   ]
  },
  {
   "cell_type": "markdown",
   "metadata": {
    "slideshow": {
     "slide_type": "subslide"
    },
    "tags": []
   },
   "source": [
    "### Two Approaches\n",
    "\n",
    "- There are to classes of algorithms that can be used to partition a graph:\n",
    "  1. Divisive: partition a graph by removing local bridges (\"spanning links\")  and breaking down the network into large chunks\n",
    "  2. Agglomerative: start with a single node and construct regions \"bottom-up\" by iteratively finding nodes highly connected to existing nodes in the region\n",
    "- We'll focus on divisive methods here"
   ]
  },
  {
   "cell_type": "markdown",
   "metadata": {
    "slideshow": {
     "slide_type": "slide"
    },
    "tags": []
   },
   "source": [
    "### Betweenness Centrality\n",
    "\n",
    "- In order to build a divisive partitioning algorithm, we'll first define a key metric for analyzing how \"central\" a node is in a network\n",
    "- We'll provide a brief introduction here, and refer you to section 3.6 of E&K for more detail\n",
    "- Let $V$ represent set of all nodes and $s, t, v \\in V$\n",
    "- Let $\\sigma_{st}$ represent the number of shortest paths between $s$ and $t$\n",
    "- Let $\\sigma_{st}(v)$ represent the number of shortest paths between $s$ and $t$ that pass through $v$.\n",
    "- Then, the **betweeness centrality**  for node $v$ ($C_{B}(v)$) is defined as: \n",
    "$$C_{B}(v) = \\sum_{s \\ne v \\ne t \\in V} \\frac{\\sigma_{st}(v)}{\\sigma_{st}}$$\n",
    "- Conceptually, $C_B(v)$ captures how much information \"flows\" across node $v$ on average"
   ]
  },
  {
   "cell_type": "markdown",
   "metadata": {
    "slideshow": {
     "slide_type": "subslide"
    },
    "tags": []
   },
   "source": [
    "### Computing $C_B(v)$\n",
    "\n",
    "- There are various algorithms we could use to compute $C_B(v)$\n",
    "- For now we will let networkx handle it for us ;)"
   ]
  },
  {
   "cell_type": "code",
   "execution_count": 16,
   "metadata": {},
   "outputs": [
    {
     "data": {
      "text/plain": [
       "{1: 0.0,\n",
       " 2: 0.0,\n",
       " 3: 0.28205128205128205,\n",
       " 7: 0.6538461538461539,\n",
       " 6: 0.28205128205128205,\n",
       " 4: 0.0,\n",
       " 5: 0.0,\n",
       " 8: 0.6538461538461539,\n",
       " 9: 0.28205128205128205,\n",
       " 10: 0.0,\n",
       " 11: 0.0,\n",
       " 12: 0.28205128205128205,\n",
       " 13: 0.0,\n",
       " 14: 0.0}"
      ]
     },
     "execution_count": 16,
     "metadata": {},
     "output_type": "execute_result"
    }
   ],
   "source": [
    "nx.betweenness_centrality(g6)"
   ]
  },
  {
   "cell_type": "markdown",
   "metadata": {},
   "source": [
    "- Note that `7` and `8` are a local bridge\n",
    "- Also note that they carry the highest value of $C_B$..."
   ]
  },
  {
   "cell_type": "markdown",
   "metadata": {
    "slideshow": {
     "slide_type": "subslide"
    },
    "tags": []
   },
   "source": [
    "### Algorithm: Girvan-Newman\n",
    "\n",
    "- We will not present the algorithm in detail, but will describe the overall steps\n",
    "- Refer to Section 3.6 of E&K for details\n",
    "- The Girvan-Newman algorithm for graph partitioning:\n",
    "  - Inputs: graph\n",
    "  - Outputs: list of edges to delete at each step\n",
    "  - Algorithm:\n",
    "    1. Find nodes with highest betweenness centrality -- remove them from the network (and add edges connecting them to the network to the list of deleted edges for first step)\n",
    "    2. Re-compute betweenness centrality for all subgraphs that resulted from deletion in step 1. Remove all nodes with highest betweenness centrality and record list of deleted edges\n",
    "    3. Continue until all edges have been removed"
   ]
  },
  {
   "cell_type": "markdown",
   "metadata": {
    "slideshow": {
     "slide_type": "slide"
    },
    "tags": []
   },
   "source": [
    "## Summary: Key ideas\n",
    "\n",
    "\n",
    "- Triangles are key network structures\n",
    "- Closed triangles are common in social networks due to tradic closure\n",
    "- Social networks are often composed of tightly knit regions bound together with weak ties\n",
    "- Weak ties often form local bridges and are therefore valueable for referrals and information flow\n",
    "- Betwenness centrality captures idea of how essential a node is in connecting regions of a graph (how much information flows across a node)"
   ]
  },
  {
   "cell_type": "markdown",
   "metadata": {},
   "source": []
  }
 ],
 "metadata": {
  "interpreter": {
   "hash": "06e05088bf2d2704501f452c5673235c92421ea24b381cad1d147a1ece3057ad"
  },
  "kernelspec": {
   "display_name": "css",
   "language": "python",
   "name": "css"
  },
  "language_info": {
   "codemirror_mode": {
    "name": "ipython",
    "version": 3
   },
   "file_extension": ".py",
   "mimetype": "text/x-python",
   "name": "python",
   "nbconvert_exporter": "python",
   "pygments_lexer": "ipython3",
   "version": "3.9.2"
  }
 },
 "nbformat": 4,
 "nbformat_minor": 4
}
