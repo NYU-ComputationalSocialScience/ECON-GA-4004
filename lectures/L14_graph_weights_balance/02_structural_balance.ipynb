{
 "cells": [
  {
   "cell_type": "markdown",
   "metadata": {
    "slideshow": {
     "slide_type": "slide"
    },
    "tags": []
   },
   "source": [
    "# Structural Balance\n",
    "\n",
    "**Prerequisites**\n",
    "\n",
    "- Introduction to Graphs\n",
    "- Strong and Weak Ties\n",
    "- Weighted Graphs\n",
    "\n",
    "**Outcomes**\n",
    "\n",
    "- Understand the structural balance property for sets of three nodes\n",
    "- Understand the structural balance theorem for a graph\n",
    "- Recognize structural balance in a weighted graph\n",
    "\n",
    "**References**\n",
    "\n",
    "- [Easley and Kleinberg](https://www.cs.cornell.edu/home/kleinber/networks-book/) chapter 5 (especially section 5.1-5-3)"
   ]
  },
  {
   "cell_type": "code",
   "execution_count": 1,
   "metadata": {
    "slideshow": {
     "slide_type": "slide"
    }
   },
   "outputs": [],
   "source": [
    "import networkx as nx\n",
    "import pandas as pd\n",
    "%matplotlib inline"
   ]
  },
  {
   "cell_type": "markdown",
   "metadata": {
    "slideshow": {
     "slide_type": "slide"
    },
    "tags": []
   },
   "source": [
    "# Structural Balance\n",
    "\n",
    "- We now shift our discussion to the notion of whether or not a network is balanced\n",
    "- For this discussion we will use weighted graphs, where weights are one of\n",
    "  - 1: if nodes are friends (also called `+`)\n",
    "  - 0: if they don't know eachother\n",
    "  - -1: if nodes are enemies (also called `-`)\n",
    "- We won't consider strength of ties right now\n",
    "- We will also limit discussion to complete graphs (cliques) where all nodes are connected to all other nodes"
   ]
  },
  {
   "cell_type": "markdown",
   "metadata": {
    "slideshow": {
     "slide_type": "subslide"
    },
    "tags": []
   },
   "source": [
    "## Balance in Triangles\n",
    "\n",
    "- To start thinking about balance, consider the possible configurations of `+` and `-` edges in a triangle\n",
    "- There are 4 options as shown below"
   ]
  },
  {
   "cell_type": "markdown",
   "metadata": {},
   "source": [
    "![https://github.com/sglyon/ucf-cap-6318/raw/Fall21/notebooks/week04/balance_in_triangles.png](https://github.com/sglyon/ucf-cap-6318/raw/Fall21/notebooks/week04/balance_in_triangles.png)"
   ]
  },
  {
   "cell_type": "markdown",
   "metadata": {},
   "source": [
    "- In (a) all people are friends -- this is happy and balanced\n",
    "- In (c) A-B are friends with a common enemy C -- nobody has reason to change alliances => balanced\n",
    "- In (b) A is friends with B and C, but they are enemies -- B and C may try to flip A against other => not balanced\n",
    "- In (d) all are enemies -- two parties have incentive to team up against common enemy => not balanced"
   ]
  },
  {
   "cell_type": "markdown",
   "metadata": {
    "slideshow": {
     "slide_type": "slide"
    },
    "tags": []
   },
   "source": [
    "## Balance In Graphs\n",
    "\n",
    "- This definition of balance in triangles can be extended to graphs\n",
    "- A complete graph G satisfies the **Structural Balance Property** if for *every* set of three nodes, exactly one or three of the edges is labeled `+`"
   ]
  },
  {
   "cell_type": "markdown",
   "metadata": {
    "slideshow": {
     "slide_type": "subslide"
    },
    "tags": []
   },
   "source": [
    "## Implications: Balance Theorem\n",
    "\n",
    "- One implication of the Structural Balance Property is the **Balance Theorem**\n",
    "> If a labeled complete graph is balanced, then either all pairs of nodes are friends, or else the nodes can be divided into two groups, X and Y , such that every pair of nodes in X like each other, every pair of nodes in Y like each other, and everyone in X is the enemy of everyone in Y .\n",
    "- Notice the strength of the statement: either all `+` or two mutually exclusive groups of friends that are all enemies with other group"
   ]
  },
  {
   "cell_type": "markdown",
   "metadata": {
    "slideshow": {
     "slide_type": "subslide"
    },
    "tags": []
   },
   "source": [
    "## Proving Balance Theorem\n",
    "\n",
    "- We will provide some intuition for how to prove the Balance Theorem, which will help us understand why it is true\n",
    "- Consider a complete Graph `G`\n",
    "- Two alternative cases:\n",
    "  1. Everyone is friends: satisfies theorem by definition\n",
    "  2. There are some `+` and some `-` edges: need to prove\n",
    "- For case 2, we must be able to split G into $X$ and $Y$ where the following hold\n",
    "  1. Every node in $X$ is friends with every other node in $X$\n",
    "  2. Every node in $Y$ is friends with every other node in $Y$\n",
    "  3. Every node in $X$ is enemies with every node in $Y$"
   ]
  },
  {
   "cell_type": "markdown",
   "metadata": {
    "slideshow": {
     "slide_type": "subslide"
    },
    "tags": []
   },
   "source": [
    "## Proof by construction\n",
    "\n",
    "- Start with complete, balanced graph $G$ (our only assumption!)\n",
    "- We will prove the balance theorem by constructing sets $X$ and $Y$ and verifying that the members of these sets satisfy the 3 properties outlined above\n",
    "- To start, pick any node $A \\in G$\n",
    "- Divide all other nodes that are friends with $A$ into $X$ and enemies into $Y$\n",
    "- Because $G$ is complete, this is all nodes"
   ]
  },
  {
   "cell_type": "markdown",
   "metadata": {
    "slideshow": {
     "slide_type": "fragment"
    },
    "tags": []
   },
   "source": [
    "### Condition 1: $\\forall B, C \\in X B => C = +$\n",
    "\n",
    "- Let $B, C \\in X$\n",
    "- We know $A => B = +$ and $A => C = +$\n",
    "- Because graph is balanced, this triangle must have 1 or 3 +\n",
    "- There are already 2, so it must be that $B => C = +$\n",
    "- B, C were arbitrary, so this part is proven"
   ]
  },
  {
   "cell_type": "markdown",
   "metadata": {
    "slideshow": {
     "slide_type": "fragment"
    },
    "tags": []
   },
   "source": [
    "### Condition 2: $\\forall D, E \\in Y \\; D => E = +$\n",
    "\n",
    "- Let $D, E \\in Y$\n",
    "- We know $A => D = -$ and $A => E = -$\n",
    "- Because graph is balanced, this triangle must have 1 or 3 +\n",
    "- There no + and only one option left, so it must be that $D => E = +$\n",
    "- D, E were arbitrary, so this part is proven"
   ]
  },
  {
   "cell_type": "markdown",
   "metadata": {
    "slideshow": {
     "slide_type": "fragment"
    },
    "tags": []
   },
   "source": [
    "### Condition 3: $\\forall B \\in X$ and $E \\in Y \\; B => E = -$\n",
    "\n",
    "- Let $B \\in X$ and $D \\in Y$\n",
    "- We know $A => D = -$ and $A => B = +$\n",
    "- Because graph is balanced, this triangle must have 1 or 3 +\n",
    "- There is one + (A=>B) and only one option left, so it must be that $B => D = -$\n",
    "- B, D were arbitrary, so this part is proven"
   ]
  },
  {
   "cell_type": "markdown",
   "metadata": {
    "slideshow": {
     "slide_type": "subslide"
    },
    "tags": []
   },
   "source": [
    "### Summary\n",
    "\n",
    "- We've just proven that for any complete, balanced graph $G$; we can partition $G$ into sets $X$ and $Y$ that satisfy the group structure of all friends or two groups of friends\n",
    "- This has interesting implications for fields like social interactions, international relations, and online behavior"
   ]
  },
  {
   "cell_type": "markdown",
   "metadata": {
    "slideshow": {
     "slide_type": "slide"
    },
    "tags": []
   },
   "source": [
    "## Application: International Relations\n",
    "\n",
    "- Consider the evolution of alliances in Europe between 1872 and 1907 as represented in the graphs below"
   ]
  },
  {
   "cell_type": "markdown",
   "metadata": {
    "tags": []
   },
   "source": [
    "![https://github.com/sglyon/ucf-cap-6318/raw/Fall21/notebooks/week04/balance_international_relations.png](https://github.com/sglyon/ucf-cap-6318/raw/Fall21/notebooks/week04/balance_international_relations.png)"
   ]
  },
  {
   "cell_type": "markdown",
   "metadata": {},
   "source": []
  }
 ],
 "metadata": {
  "celltoolbar": "Slideshow",
  "kernelspec": {
   "display_name": "css",
   "language": "python",
   "name": "css"
  },
  "language_info": {
   "codemirror_mode": {
    "name": "ipython",
    "version": 3
   },
   "file_extension": ".py",
   "mimetype": "text/x-python",
   "name": "python",
   "nbconvert_exporter": "python",
   "pygments_lexer": "ipython3",
   "version": "3.9.2"
  }
 },
 "nbformat": 4,
 "nbformat_minor": 4
}
