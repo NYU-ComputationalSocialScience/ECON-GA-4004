{
 "cells": [
  {
   "cell_type": "markdown",
   "id": "4b486dde",
   "metadata": {
    "slideshow": {
     "slide_type": "slide"
    },
    "tags": []
   },
   "source": [
    "# Weighted Graphs\n",
    "\n",
    "**Prerequisites**\n",
    "\n",
    "- Introduction to Graphs\n",
    "- Strong and Weak Ties\n",
    "\n",
    "**Outcomes**\n",
    "\n",
    "- Know what a weighted graph is and how to construct them using `networkx`\n",
    "- Implement the shortest path algorithm for traversing a weighted graph\n",
    "\n",
    "**References**\n",
    "\n",
    "- [Easley and Kleinberg](https://www.cs.cornell.edu/home/kleinber/networks-book/) chapter 5 (especially section 5.1-5-3)"
   ]
  },
  {
   "cell_type": "code",
   "execution_count": 1,
   "id": "67591cc9",
   "metadata": {
    "slideshow": {
     "slide_type": "subslide"
    },
    "tags": []
   },
   "outputs": [],
   "source": [
    "import networkx as nx\n",
    "import pandas as pd\n",
    "import numpy as np\n",
    "import matplotlib.pyplot as plt\n",
    "%matplotlib inline"
   ]
  },
  {
   "cell_type": "markdown",
   "id": "42b40815",
   "metadata": {
    "slideshow": {
     "slide_type": "slide"
    },
    "tags": []
   },
   "source": [
    "# Weighted Graphs\n",
    "\n",
    "- So far we have considered a few types of graphs\n",
    "  - Undirected graph: nodes $A$ and $B$ are connected by an edge \n",
    "  - Directed graph: connection from node $A$ to node $B$\n",
    "  - Strong/weak graphs: each edge is labeled as strong or weak\n",
    "- Today we extend our understanding of networks to talk about *weighted graphs*\n",
    "  - Each edge is assigned a `float` denoting the strength of tie\n",
    "  - Ties can be positive (friends) or negative (enemies)\n",
    "  - Can also very in strength (+2.0 better friends than +0.2)"
   ]
  },
  {
   "cell_type": "markdown",
   "id": "6cd6e9ee",
   "metadata": {
    "slideshow": {
     "slide_type": "subslide"
    },
    "tags": []
   },
   "source": [
    "## Weighted Adjacency Matrix\n",
    "\n",
    "- In a simple (unweighted) graph, we used a matrix of 0's and 1's as an adjacency matrix\n",
    "  - A 1 in row i column j marked an edge between i and j (or from i->j for directed)\n",
    "  - A 0 marked lack of an edge"
   ]
  },
  {
   "cell_type": "code",
   "execution_count": 2,
   "id": "45044eba",
   "metadata": {},
   "outputs": [
    {
     "data": {
      "text/plain": [
       "array([[0., 1., 1., 1.],\n",
       "       [1., 0., 1., 1.],\n",
       "       [1., 1., 0., 1.],\n",
       "       [1., 1., 1., 0.]])"
      ]
     },
     "execution_count": 2,
     "metadata": {},
     "output_type": "execute_result"
    },
    {
     "data": {
      "image/png": "[encoded data removed]",
      "text/plain": [
       "<Figure size 432x288 with 1 Axes>"
      ]
     },
     "metadata": {},
     "output_type": "display_data"
    }
   ],
   "source": [
    "g1 = nx.complete_graph(4, )\n",
    "g1_pos = pos={0: (1, 1), 1:  (2, 0.7), 2: (3, 1), 3: (2, 0)}\n",
    "nx.draw(g1, pos=g1_pos, with_labels=True, node_size=1000)\n",
    "nx.convert_matrix.to_numpy_array(g1)"
   ]
  },
  {
   "cell_type": "markdown",
   "id": "33402f2d",
   "metadata": {
    "slideshow": {
     "slide_type": "subslide"
    },
    "tags": []
   },
   "source": [
    "- We can extend idea of adjacency matrix to include *weighted* edges\n",
    "- Suppose nodes A, B, C are friends -- but A-C are **best** friends\n",
    "- Also suppose that all of A, B, C consider D an enemy\n",
    "- To represent this we might say weight of edges is:\n",
    "  - `A-B` and `B-C`: 1.0\n",
    "  - `A-C`: 2.0\n",
    "  - `A-D`, `B-D`, `C-D`: -1.0\n",
    "- Here's the adjacency matrix"
   ]
  },
  {
   "cell_type": "code",
   "execution_count": 3,
   "id": "8d76bdd4",
   "metadata": {},
   "outputs": [
    {
     "data": {
      "text/plain": [
       "array([[ 0,  1,  2, -1],\n",
       "       [ 1,  0,  1, -1],\n",
       "       [ 2,  1,  0, -1],\n",
       "       [-1, -1, -1,  0]])"
      ]
     },
     "execution_count": 3,
     "metadata": {},
     "output_type": "execute_result"
    }
   ],
   "source": [
    "A2 = np.array([\n",
    "    [0, 1, 2, -1],\n",
    "    [1, 0, 1, -1],\n",
    "    [2, 1, 0, -1],\n",
    "    [-1, -1, -1, 0],\n",
    "])\n",
    "A2"
   ]
  },
  {
   "cell_type": "code",
   "execution_count": 4,
   "id": "582dd77b",
   "metadata": {
    "tags": []
   },
   "outputs": [],
   "source": [
    "G2 = nx.Graph(A2)"
   ]
  },
  {
   "cell_type": "markdown",
   "id": "42d14e81",
   "metadata": {
    "slideshow": {
     "slide_type": "subslide"
    },
    "tags": []
   },
   "source": [
    "- And here is how we might visualize this graph (notice the labeled edges)"
   ]
  },
  {
   "cell_type": "code",
   "execution_count": 5,
   "id": "ed1a5665",
   "metadata": {},
   "outputs": [
    {
     "data": {
      "image/png": "[encoded data removed]",
      "text/plain": [
       "<Figure size 432x288 with 1 Axes>"
      ]
     },
     "metadata": {},
     "output_type": "display_data"
    }
   ],
   "source": [
    "def draw_weighted_graph(g, pos):\n",
    "    \n",
    "    fig, ax = plt.subplots()\n",
    "    labels = dict(\n",
    "        [\n",
    "            ((n1, n2), d['weight'])\n",
    "            for n1, n2, d in g.edges(data=True)\n",
    "        ]\n",
    "    )\n",
    "    ax = nx.draw(g, pos=pos, with_labels=True, node_size=1000, ax=ax)\n",
    "    nx.draw_networkx_edge_labels(g, ax=ax, pos=pos, edge_labels=labels, rotate=False)\n",
    "    return ax\n",
    "\n",
    "draw_weighted_graph(G2, g1_pos)"
   ]
  },
  {
   "cell_type": "markdown",
   "id": "993e609c",
   "metadata": {
    "slideshow": {
     "slide_type": "slide"
    },
    "tags": []
   },
   "source": [
    "# Shortest Paths\n",
    "\n",
    "- We talked previously about shortest paths for a Graph\n",
    "- This was defined as the minimum number of edges needed to move from node n1 to node n2\n",
    "- When we have a weighted graph things get more interesting...\n",
    "- Let $w_{ab}$ represent the weight connecting nodes $A$ and $B$\n",
    "- Define the shortest path between n1 and n2 as the path that minimizes $\\sum w_{ab}$ for all edges `A->B` along a path"
   ]
  },
  {
   "cell_type": "markdown",
   "id": "bd10eb33",
   "metadata": {
    "slideshow": {
     "slide_type": "subslide"
    },
    "tags": []
   },
   "source": [
    "## Example\n",
    "\n",
    "- Consider the following directed graph"
   ]
  },
  {
   "cell_type": "code",
   "execution_count": 6,
   "id": "a93c0208",
   "metadata": {},
   "outputs": [
    {
     "data": {
      "image/png": "[encoded data removed]",
      "text/plain": [
       "<Figure size 432x288 with 1 Axes>"
      ]
     },
     "metadata": {},
     "output_type": "display_data"
    }
   ],
   "source": [
    "G3 = nx.read_gml(\"short_path_problem.gml\")\n",
    "\n",
    "edge_labels = dict(\n",
    "    [\n",
    "        ((u, v), d['weight'])\n",
    "        for u, v, d in G3.edges(data=True)\n",
    "    ]\n",
    ")\n",
    "pos = nx.get_node_attributes(G3,'pos')\n",
    "\n",
    "nx.draw_networkx_edge_labels(G3, pos, edge_labels=edge_labels, rotate=False)\n",
    "nx.draw(G3, pos, node_color='lightgrey', with_labels=True, node_size=1000)"
   ]
  },
  {
   "cell_type": "markdown",
   "id": "aed7550e",
   "metadata": {
    "slideshow": {
     "slide_type": "subslide"
    },
    "tags": []
   },
   "source": [
    "- We wish to travel from node A to node G at minimum cost\n",
    "- The shortest path (ignoring weights)  is A-D-G\n",
    "- Taking into account weights we have 3 + 8 = 11\n",
    "- There are two other paths that lead to lower cost (total of 8)\n",
    "  - `A-C-F-G` has cost 5 + 2 + 1 = 8\n",
    "  - `A-D-F-G` has cost 3 + 4 + 1 = 8\n",
    "- For this small graph, we could find these paths by hand\n",
    "- For a larger one, we will need an algorithm..."
   ]
  },
  {
   "cell_type": "markdown",
   "id": "c0060087",
   "metadata": {
    "slideshow": {
     "slide_type": "subslide"
    },
    "tags": []
   },
   "source": [
    "## Shortest path algorithm\n",
    "\n",
    "- Let $J(v)$ be the minimum cost-to-go from node $v$ to node G\n",
    "- Suppose that we know $J(v)$ for each node $v$, as shown below for our example graph\n",
    "  - Note $J(G) = 0$"
   ]
  },
  {
   "cell_type": "markdown",
   "id": "93eb7090",
   "metadata": {},
   "source": [
    "![https://github.com/sglyon/ucf-cap-6318/raw/Fall21/notebooks/week04/graph_costs.png](https://github.com/sglyon/ucf-cap-6318/raw/Fall21/notebooks/week04/graph_costs.png)"
   ]
  },
  {
   "cell_type": "markdown",
   "id": "2622251f",
   "metadata": {},
   "source": [
    "- With $J(v)$ in hand, the following algorithm will find the cost-minimizing path from $A$ to $G$:\n",
    "  1. Start with $v = A$\n",
    "  2. From current node $v$ move to any node that solves $\\min_{n \\in F_v} w_{vn} + J(n)$, where $F_v$ is the set of nodes that can be reached from $v$. \n",
    "  3. Update notation to set $v = n$\n",
    "  3. Repeat steps 2-3 (making note of which we visit) until $v = G$"
   ]
  },
  {
   "cell_type": "markdown",
   "id": "585bc5c5",
   "metadata": {
    "slideshow": {
     "slide_type": "slide"
    },
    "tags": []
   },
   "source": [
    "## Exercise: Traversing Cost-Minimizing Path\n",
    "\n",
    "- Let's implement the algorithm above\n",
    "- Below I have started a function called `traverse_graph`\n",
    "- Your task is to complete it until you get that the minimum cost path has a cost of 8 and length(4)"
   ]
  },
  {
   "cell_type": "code",
   "execution_count": 8,
   "id": "2e5d227f",
   "metadata": {},
   "outputs": [],
   "source": [
    "J3 = {\n",
    "    \"A\": 8, \n",
    "    \"B\": 10, \n",
    "    \"C\": 3, \n",
    "    \"D\": 5, \n",
    "    \"E\": 4, \n",
    "    \"F\": 1, \n",
    "    \"G\": 0,\n",
    "}"
   ]
  },
  {
   "cell_type": "code",
   "execution_count": 10,
   "id": "60504ba6",
   "metadata": {},
   "outputs": [
    {
     "data": {
      "text/plain": [
       "networkx.classes.digraph.DiGraph"
      ]
     },
     "execution_count": 10,
     "metadata": {},
     "output_type": "execute_result"
    }
   ],
   "source": [
    "type(G3)"
   ]
  },
  {
   "cell_type": "code",
   "execution_count": null,
   "id": "8199cf96",
   "metadata": {
    "deletable": false,
    "nbgrader": {
     "checksum": "80bd3607833aca30831a8d918ee95230",
     "grade": false,
     "grade_id": "traverse-graph",
     "locked": false,
     "schema_version": 3,
     "solution": true,
     "task": false
    }
   },
   "outputs": [],
   "source": [
    "def traverse_graph(\n",
    "        G: nx.DiGraph, \n",
    "        J: dict, \n",
    "        start_node, \n",
    "        end_node\n",
    "    ):\n",
    "    path = [start_node]\n",
    "    cost = 0.0\n",
    "    W = G.adj\n",
    "    \n",
    "    # NOTE: modify the lines that say CHANGE ME below\n",
    "    # TODO: step1, initialize v\n",
    "    v = 'A'  # CHANGE ME\n",
    "    num = 0\n",
    "    while v != end_node and num < len(G.nodes):  # prevent infinite loop\n",
    "        num +=1\n",
    "        F_v = list(G.neighbors(v))\n",
    "        \n",
    "        # TODO: step 2, compute costs for all n in F_v\n",
    "        #       Use W[v][n][\"weight\"] and J to get weight from v -> n\n",
    "        costs = [0 for n in F_v]  # CHANGE ME\n",
    "        \n",
    "        n = F_v[np.argmin(costs)]\n",
    "        \n",
    "        # TODO: how should we update cost?\n",
    "        cost += 0   # CHANGE ME\n",
    "        \n",
    "        path.append(n)\n",
    "        \n",
    "        # TODO: step 3 -- update v\n",
    "        v = end_node  # CHANGE ME\n",
    "    \n",
    "\n",
    "    return path, cost"
   ]
  },
  {
   "cell_type": "code",
   "execution_count": null,
   "id": "b0d9bd9b",
   "metadata": {},
   "outputs": [],
   "source": [
    "traverse_graph(G3, J3, \"B\", \"G\")"
   ]
  },
  {
   "cell_type": "code",
   "execution_count": null,
   "id": "485fd013",
   "metadata": {
    "deletable": false,
    "editable": false,
    "nbgrader": {
     "checksum": "eb1af8e38b172d1b69466fe10aca8b7b",
     "grade": true,
     "grade_id": "traverse-graph-test",
     "locked": true,
     "points": 20,
     "schema_version": 3,
     "solution": false,
     "task": false
    }
   },
   "outputs": [],
   "source": [
    "ans = traverse_graph(G3, J3, \"A\", \"G\")\n",
    "assert ans[0] in (\"A D F G\".split(), \"A C F G\".split())\n",
    "assert ans[1] == 8.0\n",
    "\n",
    "ans2 = traverse_graph(G3, J3, \"B\", \"G\")\n",
    "assert ans2[0] == \"B E G\".split()\n",
    "assert ans2[1] == 10.0"
   ]
  },
  {
   "cell_type": "markdown",
   "id": "310cb93d",
   "metadata": {
    "slideshow": {
     "slide_type": "subslide"
    },
    "tags": []
   },
   "source": [
    "## But what about $J(v)$\n",
    "\n",
    "- The shortest path algorithm we presented above sounds simple, but assumed we know $J(v)$ \n",
    "- How can we find it?\n",
    "- If you stare at the following equation long enough, you'll be convinced that $J$ satisfies\n",
    "$$J(v) = \\min_{n \\in F_v} w_{vn} + J(n)$$\n",
    "- This is known as the *Bellman equation*\n",
    "- It is a restriction that $J$ must satisfy\n",
    "- We'll use this restriction to compute $J$"
   ]
  },
  {
   "cell_type": "markdown",
   "id": "639475d9",
   "metadata": {
    "slideshow": {
     "slide_type": "subslide"
    },
    "tags": []
   },
   "source": [
    "## Computing J: Guess and Iterate\n",
    "\n",
    "- We'll present the standard algorithm for computing $J(v)$\n",
    "- This is an iterative method\n",
    "- Let $i$ represent the iteration we are on and $J_i(v)$ be the guess for $J(v)$ on iteration $i$\n",
    "- Algorithm\n",
    "  1. Set $i=0$, and $J_i(v) = 0 \\forall v$\n",
    "  2. Set $J_{i+1}(v) = \\min_{n \\in F_v} w_{vn} + J_i(n) \\forall n$\n",
    "  3. Check if $J_{i+1}$ and $J_i$ are equal for all $v$ -- if not set $i = i+1$ and see repeat steps 2-3\n",
    "- This algorithm converges to $J$ (we won't prove it here...)"
   ]
  },
  {
   "cell_type": "markdown",
   "id": "97df7bbc",
   "metadata": {
    "slideshow": {
     "slide_type": "subslide"
    },
    "tags": []
   },
   "source": [
    "## Implementation\n",
    "\n",
    "- Let's now implement the algorithm!\n",
    "- We'll walk you through our implementation"
   ]
  },
  {
   "cell_type": "code",
   "execution_count": 11,
   "id": "10f9f182",
   "metadata": {},
   "outputs": [],
   "source": [
    "def compute_J(G: nx.DiGraph, dest_node):\n",
    "    nodes = G.nodes\n",
    "    N = len(nodes)\n",
    "    node_to_ind = dict(zip(nodes, range(N)))\n",
    "    ind_to_node = {v: k for k, v in node_to_ind.items()}\n",
    "    \n",
    "    # step 1. start with zeros\n",
    "    i = 0\n",
    "    Ji = np.zeros(N)\n",
    "    next_J = np.zeros(N)\n",
    "    \n",
    "    W = nx.to_numpy_array(G)\n",
    "    \n",
    "    done = False\n",
    "    while not done:\n",
    "        i += 1\n",
    "        for v in G.nodes:\n",
    "            i = node_to_ind[v]\n",
    "            if v == dest_node:\n",
    "                next_J[i] = 0\n",
    "                continue\n",
    "            F_v = list(G.neighbors(v))\n",
    "            js = [node_to_ind[n] for n in F_v]\n",
    "            costs = [W[i, j] + Ji[j] for j in js]\n",
    "            next_J[i] = min(costs)\n",
    "        done = np.allclose(next_J, Ji)\n",
    "        Ji = np.copy(next_J)\n",
    "        \n",
    "        \n",
    "    return Ji"
   ]
  },
  {
   "cell_type": "code",
   "execution_count": 13,
   "id": "05acd142",
   "metadata": {},
   "outputs": [
    {
     "data": {
      "text/plain": [
       "{'A': 8, 'B': 10, 'C': 3, 'D': 5, 'E': 4, 'F': 1, 'G': 0}"
      ]
     },
     "execution_count": 13,
     "metadata": {},
     "output_type": "execute_result"
    }
   ],
   "source": [
    "J3"
   ]
  },
  {
   "cell_type": "code",
   "execution_count": 12,
   "id": "8d933d8a",
   "metadata": {},
   "outputs": [
    {
     "data": {
      "text/plain": [
       "array([ 8., 10.,  3.,  5.,  4.,  1.,  0.])"
      ]
     },
     "execution_count": 12,
     "metadata": {},
     "output_type": "execute_result"
    }
   ],
   "source": [
    "compute_J(G3, \"G\")"
   ]
  },
  {
   "cell_type": "markdown",
   "id": "2182fd92",
   "metadata": {
    "slideshow": {
     "slide_type": "subslide"
    },
    "tags": []
   },
   "source": [
    "## Exercise: Shortest Path\n",
    "\n",
    "- Let's now combine the two functions to compute a shortest path (and associated cost) for a graph\n",
    "- Your task is to fill in the function below and get the test to pass"
   ]
  },
  {
   "cell_type": "code",
   "execution_count": null,
   "id": "df4a5af6",
   "metadata": {
    "deletable": false,
    "nbgrader": {
     "checksum": "ef76f3d46274fb5a18882a6428e2f01a",
     "grade": false,
     "grade_id": "shortest-path",
     "locked": false,
     "schema_version": 3,
     "solution": true,
     "task": false
    }
   },
   "outputs": [],
   "source": [
    "def shortest_path(G: nx.DiGraph, start_node, end_node):\n",
    "    \"\"\"\n",
    "    Given a weighted graph `G`, enumerate a shortest path \n",
    "    between `start_node` and `end_node`\n",
    "    \"\"\"\n",
    "    # YOUR CODE HERE\n",
    "    raise NotImplementedError()"
   ]
  },
  {
   "cell_type": "code",
   "execution_count": null,
   "id": "625b7be3",
   "metadata": {
    "deletable": false,
    "editable": false,
    "nbgrader": {
     "checksum": "978932ed430d8e88c230fc9d5f95118c",
     "grade": true,
     "grade_id": "shortest-path-test",
     "locked": true,
     "points": 15,
     "schema_version": 3,
     "solution": false,
     "task": false
    }
   },
   "outputs": [],
   "source": [
    "out = shortest_path(G3, \"A\", \"G\")\n",
    "assert len(out) == 2\n",
    "assert out[0] == \"A C F G\".split() or out[0] == \"A D F G\".split()\n",
    "assert out[1] == 8"
   ]
  },
  {
   "cell_type": "markdown",
   "id": "2bf653cf",
   "metadata": {
    "slideshow": {
     "slide_type": "slide"
    }
   },
   "source": [
    "### Summary\n",
    "\n",
    "- Weighted graphs allow us to analyze the cost of travsersing paths\n",
    "    - Applied in situations like traffic flows (on physical roads/bridges), resource planning, supply chain, international trade (weights as tarrifs), and more\n",
    "- Programming skills...\n",
    "    - We built up an algorithm `shortest_path` using two smaller routines: `traverse_graph`, `compute_J`\n",
    "    - For each of the 3 functions we were able to write tests to verify code correctness\n",
    "    - Good habit to break a hard problem into smaller sub-problems that can be implemented/tested separately\n",
    "    - Then compose overall routine using functions for sub-problems\n",
    "    - Not all practitioners do this... we've seen some *scary* notebooks and scripts... don't do that... you know better"
   ]
  },
  {
   "cell_type": "code",
   "execution_count": null,
   "id": "e2a1f0d5",
   "metadata": {},
   "outputs": [],
   "source": []
  }
 ],
 "metadata": {
  "kernelspec": {
   "display_name": "css",
   "language": "python",
   "name": "css"
  },
  "language_info": {
   "codemirror_mode": {
    "name": "ipython",
    "version": 3
   },
   "file_extension": ".py",
   "mimetype": "text/x-python",
   "name": "python",
   "nbconvert_exporter": "python",
   "pygments_lexer": "ipython3",
   "version": "3.9.2"
  }
 },
 "nbformat": 4,
 "nbformat_minor": 5
}
