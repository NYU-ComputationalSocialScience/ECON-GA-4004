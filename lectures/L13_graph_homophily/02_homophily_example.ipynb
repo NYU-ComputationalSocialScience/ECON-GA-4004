{
 "cells": [
  {
   "cell_type": "markdown",
   "id": "be51b681-c5ff-4003-a072-326a2387f067",
   "metadata": {},
   "source": [
    "# Homophily in Rural Villages in India\n",
    "\n",
    "\n",
    "**Prerequisites**\n",
    "\n",
    "- Introduction to Graphs\n",
    "- Strong and Weak Ties\n",
    "- Homophily\n",
    "\n",
    "**Outcomes**\n",
    "\n",
    "- Case study of homophily amongst residents of rural towns in India\n",
    "- Hands on practice working with graphs, DataFrames and combining them\n",
    "\n",
    "**References**\n",
    "\n",
    "- [Easley and Kleinberg](https://www.cs.cornell.edu/home/kleinber/networks-book/) chapter 4\n",
    "- [DataCamp exercises](https://campus.datacamp.com/courses/using-python-for-research/case-study-6-social-network-analysis?ex=1)  with this dataset\n"
   ]
  },
  {
   "cell_type": "markdown",
   "id": "edc2ac7a-9a85-425d-bced-395636c75356",
   "metadata": {},
   "source": [
    "## Part 1: Counting and Frequencies\n",
    "\n",
    "To prepare for studying Homophiliy, we need to write a few Python functions that will allow us to count the number of occurances of a characteristic, then compute the frequency of occurance."
   ]
  },
  {
   "cell_type": "code",
   "execution_count": null,
   "id": "66ed198a-3ef2-4d63-a90a-a8a9cedbf10b",
   "metadata": {
    "deletable": false,
    "nbgrader": {
     "cell_type": "code",
     "checksum": "77059c500ca45a769091142f0dee6404",
     "grade": false,
     "grade_id": "counts",
     "locked": false,
     "schema_version": 3,
     "solution": true,
     "task": false
    }
   },
   "outputs": [],
   "source": [
    "def counts(obs: list) -> dict:\n",
    "    \"\"\"\n",
    "    Count the Number of occurances of each item in the list `x`\n",
    "\n",
    "    The return value should be a dict mapping from items in `x` to\n",
    "    the number of times each item occurs in x\n",
    "\n",
    "    Example:\n",
    "\n",
    "    `counts([1, 2, 1, 1])` should return `{1: 3, 2:}`\n",
    "    \"\"\"\n",
    "    out = dict()\n",
    "    \n",
    "    # YOUR CODE HERE\n",
    "    raise NotImplementedError()\n",
    "    # HINT: the function `out.get(item, 0)` might be helpful... see docs\n",
    "\n",
    "    return out"
   ]
  },
  {
   "cell_type": "code",
   "execution_count": null,
   "id": "64adef73",
   "metadata": {
    "deletable": false,
    "editable": false,
    "nbgrader": {
     "cell_type": "code",
     "checksum": "02ac0d41a4b13eb5a00d4eb0d2c7b195",
     "grade": true,
     "grade_id": "counts_tests",
     "locked": true,
     "points": 15,
     "schema_version": 3,
     "solution": false,
     "task": false
    }
   },
   "outputs": [],
   "source": [
    "assert counts([1, 1, 2, 1]) == {1: 3, 2: 1}\n",
    "assert counts([1, 1, 2, 1, 3]) == {1: 3, 2: 1, 3: 1}\n",
    "assert counts([\"a\", \"world\", \"b\", \"b\", \"world\"]) == {\"a\": 1, \"b\": 2, \"world\": 2}"
   ]
  },
  {
   "cell_type": "markdown",
   "id": "1be663f7-4b5c-417d-94f2-f32579be5d72",
   "metadata": {},
   "source": [
    "Next step we will use our counting function to then compute frequencies\n",
    "\n",
    "We will have two methods of this function\n",
    "\n",
    "1. A method that works on `Dict{T,Int}` that assumes the Dict contains counts\n",
    "2. A method that consumes a `Vector{T}` and will first compute counts and then call the first method"
   ]
  },
  {
   "cell_type": "code",
   "execution_count": null,
   "id": "34835e27-7bab-4bef-8e11-b553d481eeb7",
   "metadata": {
    "deletable": false,
    "nbgrader": {
     "cell_type": "code",
     "checksum": "52ceeb4ca6651da3a75fd5658c94f413",
     "grade": false,
     "grade_id": "frequencies",
     "locked": false,
     "schema_version": 3,
     "solution": true,
     "task": false
    }
   },
   "outputs": [],
   "source": [
    "def frequencies(obs: list) -> int:\n",
    "    \"\"\"\n",
    "    Given a list of, compute the frequency of observations of each value in obs\n",
    "\n",
    "\n",
    "    Example:\n",
    "\n",
    "    `frequencies([1, 1, 2, 1])` should return `{1: 0.75, 2: 0.25}`\n",
    "    \n",
    "    Notes:\n",
    "    \n",
    "    Uses the `counts` function above\n",
    "\n",
    "    \"\"\"\n",
    "    # YOUR CODE HERE\n",
    "    raise NotImplementedError()\n",
    "    "
   ]
  },
  {
   "cell_type": "code",
   "execution_count": null,
   "id": "62c9a4eb-7085-442e-a9c9-c12448b88764",
   "metadata": {
    "deletable": false,
    "editable": false,
    "nbgrader": {
     "cell_type": "code",
     "checksum": "ba03d07eddd92b4a6c2cc038798993ff",
     "grade": true,
     "grade_id": "frequencies_tests",
     "locked": true,
     "points": 15,
     "schema_version": 3,
     "solution": false,
     "task": false
    }
   },
   "outputs": [],
   "source": [
    "assert frequencies([1, 1, 2, 1]) == {1: 0.75, 2: 0.25}\n",
    "assert frequencies([1, 1, 2, 1, 3]) == {1: 0.6, 2: 0.2, 3: 0.2}\n",
    "assert frequencies([\"a\", \"world\", \"b\", \"b\", \"world\"]) == {\"a\": 0.2, \"b\": 0.4, \"world\": 0.4}"
   ]
  },
  {
   "cell_type": "markdown",
   "id": "b096a77a",
   "metadata": {},
   "source": [
    "## Part 2: Chance Homophily\n",
    "\n",
    "\n",
    "Let's now write a function that can compute the degree of homophily we would expect if edges were formed entirely by chance and the realization of node characteristics was also random\n",
    "\n",
    "Suppose there is a characteristic `X` with possible values [a, b, c]\n",
    "\n",
    "Furthermore, suppose that the probability that an individual node has realization `a` is $p_a$. Similarly $p_b$ and $p_c$ represent probabilities of observing b and c, respectively\n",
    "\n",
    "Now consider an edge between two random nodes. The probability that the edge is between two `a` type nodes is $p_a^2$. We could say the same for `b` and `c`\n",
    "\n",
    "Therefore, the probability that a random edge will be formed between two individuals that share characteristic `X` is given by\n",
    "\n",
    "$$\\sum_{x \\in \\{a,b,c\\}} p_x^2$$\n",
    "\n",
    "In our running example of realizations `[1, 2, 1, 1]` we would say that the probability of chance homophily is 0.75^2 + 0.25^2 = $(0.75^2 + 0.25^2)$\n",
    "\n",
    "Implement the function below that computes chance_homophiliy given a dict of frequency of occurance (frequency is our estimate of the probabilities $p$ above)"
   ]
  },
  {
   "cell_type": "code",
   "execution_count": null,
   "id": "a8bdd4ca",
   "metadata": {
    "deletable": false,
    "nbgrader": {
     "cell_type": "code",
     "checksum": "1a77778cf150981a17034c6a5246ef7d",
     "grade": false,
     "grade_id": "chance_homophily",
     "locked": false,
     "schema_version": 3,
     "solution": true,
     "task": false
    }
   },
   "outputs": [],
   "source": [
    "def chance_homophily(d: dict) -> float:\n",
    "    \"\"\"\n",
    "    Given a dict of observed characteristic frequencies, \n",
    "    compute the chance_homophily, which is probability of \n",
    "    a random edge forming between two nodes that share a \n",
    "    characteristic\n",
    "\n",
    "    Example:\n",
    "\n",
    "    `chance_homophily(Dict(1 => 0.75, 2 => 0.25))` returns `0.625`\n",
    "    \"\"\"\n",
    "    # YOUR CODE HERE\n",
    "    raise NotImplementedError()"
   ]
  },
  {
   "cell_type": "code",
   "execution_count": null,
   "id": "800c85ab",
   "metadata": {
    "deletable": false,
    "editable": false,
    "nbgrader": {
     "cell_type": "code",
     "checksum": "b5e8041700fde317e977b13c82d9367c",
     "grade": true,
     "grade_id": "chance_homophily_tests",
     "locked": true,
     "points": 15,
     "schema_version": 3,
     "solution": false,
     "task": false
    }
   },
   "outputs": [],
   "source": [
    "assert abs(chance_homophily({1: 0.75, 2: 0.25}) - 0.625) < 1e-8\n",
    "assert abs(chance_homophily({\"a\": 0.2, \"b\": 0.4, \"world\": 0.4}) -  0.36) < 1e-8\n",
    "assert abs(chance_homophily({1: 0.6, 2: 0.2, 3: 0.2}) -  0.44) < 1e-8"
   ]
  },
  {
   "cell_type": "markdown",
   "id": "c0ab2e69",
   "metadata": {},
   "source": [
    "## Part 3: Loading Data\n",
    "\n",
    "Let's now load up our observed characteristics data\n",
    "\n",
    "The function `load_remote_csv` defined for you below can download a CSV file from the internet and load it into a DataFrame\n",
    "\n",
    "Use this method to load the dataset at `https://compsosci-resources.s3.amazonaws.com/graph-theory-lectures/data/india_village_individual_characteristics.csv` into a DataFrame"
   ]
  },
  {
   "cell_type": "code",
   "execution_count": null,
   "id": "e6434fc3",
   "metadata": {
    "deletable": false,
    "nbgrader": {
     "cell_type": "code",
     "checksum": "253b9943e5d6147ebdfc81004044bcc6",
     "grade": false,
     "grade_id": "load_data",
     "locked": false,
     "schema_version": 3,
     "solution": true,
     "task": false
    }
   },
   "outputs": [],
   "source": [
    "import pandas as pd \n",
    "\n",
    "def load_data():\n",
    "    # YOUR CODE HERE\n",
    "    raise NotImplementedError()\n",
    "    pass"
   ]
  },
  {
   "cell_type": "code",
   "execution_count": null,
   "id": "071745ca",
   "metadata": {
    "deletable": false,
    "editable": false,
    "nbgrader": {
     "cell_type": "code",
     "checksum": "c13cae975139f7aa1c11cb707233ffd3",
     "grade": true,
     "grade_id": "load-data-tests",
     "locked": true,
     "points": 10,
     "schema_version": 3,
     "solution": false,
     "task": false
    }
   },
   "outputs": [],
   "source": [
    "df = load_data()\n",
    "assert df.shape == (16984, 48)"
   ]
  },
  {
   "cell_type": "markdown",
   "id": "c81b4057",
   "metadata": {},
   "source": [
    "## Part 4: Loading Graphs\n",
    "\n",
    "We will also need to load the network data into a Graph\n",
    "\n",
    "The network is stored in two Graphs -- one for each village\n",
    "\n",
    "The variables `v1_graph_url` contains the url for the graph for village 1\n",
    "\n",
    "`v2_graph_url` has the url for village 2\n",
    "\n",
    "The contents of each of these files is a CSV containing an adjacency matrix\n",
    "\n",
    "Item [i,j] is either 0 or 1, depending on if an edge exists (`1`) or not (`0`) between nodes i and j\n",
    "\n",
    "There is one row per node\n",
    "\n",
    "Your task is to complete the `read_remote_graph` function below to successfuly fetch the file from online, parse it as a CSV, and convert to a Graph\n",
    "\n",
    "**WARNING** the csv files at `v1_graph_url` and `v2_graph_url` do not have headers. You will have to modify the keyword arguments passed to `pd.read_csv` in order to handle this properly. See the help for pd.read_csv for more information"
   ]
  },
  {
   "cell_type": "code",
   "execution_count": null,
   "id": "a236d911",
   "metadata": {
    "deletable": false,
    "editable": false,
    "nbgrader": {
     "cell_type": "code",
     "checksum": "e62afca32479e0528f4220af1d3cc006",
     "grade": false,
     "grade_id": "cell-5549abd3f8f9e368",
     "locked": true,
     "schema_version": 3,
     "solution": false,
     "task": false
    }
   },
   "outputs": [],
   "source": [
    "root_url = \"https://compsosci-resources.s3.amazonaws.com/graph-theory-lectures/data\"\n",
    "v1_graph_url = root_url + \"/adj_allVillageRelationships_vilno_1.csv\"\n",
    "v2_graph_url = root_url + \"/adj_allVillageRelationships_vilno_2.csv\""
   ]
  },
  {
   "cell_type": "code",
   "execution_count": null,
   "id": "4e7955b2",
   "metadata": {
    "deletable": false,
    "nbgrader": {
     "cell_type": "code",
     "checksum": "c1f23b95b8f1211967773853e0430cc7",
     "grade": false,
     "grade_id": "load_graph",
     "locked": false,
     "schema_version": 3,
     "solution": true,
     "task": false
    }
   },
   "outputs": [],
   "source": [
    "# YOUR CODE HERE\n",
    "raise NotImplementedError()"
   ]
  },
  {
   "cell_type": "code",
   "execution_count": null,
   "id": "64299bd7",
   "metadata": {
    "deletable": false,
    "editable": false,
    "nbgrader": {
     "cell_type": "code",
     "checksum": "dffd9696e67c6ac226b70e574f38cd88",
     "grade": true,
     "grade_id": "load_graph_tests",
     "locked": true,
     "points": 20,
     "schema_version": 3,
     "solution": false,
     "task": false
    }
   },
   "outputs": [],
   "source": [
    "g1 = read_remote_graph(v1_graph_url)\n",
    "g2 = read_remote_graph(v2_graph_url)\n",
    "\n",
    "assert len(g1.nodes) == 843\n",
    "assert len(g2.nodes) == 877\n",
    "\n",
    "assert len(g1.edges) == 3405\n",
    "assert len(g2.edges) == 3063"
   ]
  },
  {
   "cell_type": "markdown",
   "id": "ea29df69",
   "metadata": {},
   "source": [
    "## Part 5: Empirical (observed) Homophily\n",
    "\n",
    "Let's now explore the degree to which G1 and G2 exhibit homophiliy in the variables `resp_gender`, `caste`, and `religion`.\n",
    "\n",
    "To do this we'll first need a function that can compute the ratio of edges that form between like-characteristic nodes and the total number of edges\n",
    "\n",
    "We'll implement that below"
   ]
  },
  {
   "cell_type": "code",
   "execution_count": null,
   "id": "d8be889d",
   "metadata": {
    "deletable": false,
    "nbgrader": {
     "cell_type": "code",
     "checksum": "4ca0b17f9cf16ba83f99b609b46c4e02",
     "grade": false,
     "grade_id": "observed_homophily",
     "locked": false,
     "schema_version": 3,
     "solution": true,
     "task": false
    }
   },
   "outputs": [],
   "source": [
    "def observed_homophily(\n",
    "        G: nx.Graph,\n",
    "        characteristics: dict\n",
    "    ) -> float:\n",
    "    \"\"\"\n",
    "    Given a network G and a dict mapping from node id to a characteristic,\n",
    "    compute the statistic e_xx / e, where e_xx is the number of edges between\n",
    "    two nodes that share the same value for the given characteristic and \n",
    "    e is the total number of edges\n",
    "    \"\"\"\n",
    "    # YOUR CODE HERE\n",
    "    raise NotImplementedError()"
   ]
  },
  {
   "cell_type": "markdown",
   "id": "e27eaee1",
   "metadata": {},
   "source": [
    "In order to test this function, we need a way to extract the characteristic dict from our DataFrame. The `extract_characteristic_dict` function below does that for us"
   ]
  },
  {
   "cell_type": "code",
   "execution_count": null,
   "id": "adbea738",
   "metadata": {
    "deletable": false,
    "editable": false,
    "nbgrader": {
     "cell_type": "code",
     "checksum": "2d806aa27108a174e7dbaf48f43d92e2",
     "grade": false,
     "grade_id": "cell-b643d9bd936e8d74",
     "locked": true,
     "schema_version": 3,
     "solution": false,
     "task": false
    }
   },
   "outputs": [],
   "source": [
    "def extract_characteristic_dict(df: pd.DataFrame, village: int, characteristic: str) -> dict:\n",
    "    \"\"\"\n",
    "    Given our DataFrame of observations, an integer for which village, \n",
    "    and  a string for a characteristic return a dict mapping from \n",
    "    the `adjmatrix_key` column to the  value in the `characteristic` \n",
    "    column for all residents of the village\n",
    "    \"\"\"\n",
    "    village_df = df.loc[df[\"village\"] == village, :]\n",
    "    return village_df.set_index(\"adjmatrix_key\")[characteristic].to_dict()"
   ]
  },
  {
   "cell_type": "code",
   "execution_count": null,
   "id": "fccac3a9",
   "metadata": {
    "deletable": false,
    "editable": false,
    "nbgrader": {
     "cell_type": "code",
     "checksum": "d9c1892a1ae7e2a86468bb3b6e3185da",
     "grade": true,
     "grade_id": "cell-7f3a111e0867ee1d",
     "locked": true,
     "points": 0,
     "schema_version": 3,
     "solution": false,
     "task": false
    }
   },
   "outputs": [],
   "source": [
    "assert abs(\n",
    "    observed_homophily(g1, extract_characteristic_dict(df, 1, \"religion\")) - \n",
    "    0.9907834101\n",
    ") < 1e-5\n",
    "\n",
    "assert abs(\n",
    "    observed_homophily(g2, extract_characteristic_dict(df, 2, \"caste\")) - \n",
    "    0.8564231738\n",
    ") < 1e-5"
   ]
  },
  {
   "cell_type": "markdown",
   "id": "5a7ee8dc",
   "metadata": {},
   "source": [
    "## Part 6: Diagnosing Homophily\n",
    "\n",
    "Our final step is to compare the chance_homophily that would be observed with random edge formation to the actual homophily we can compute using our new tools.\n",
    "\n",
    "Your task on this part is to do the following:\n",
    "\n",
    "- For each of `resp_gender`, `caste`, and `religion` and both village 1 and 2...\n",
    "- Compute the chance_homophly we would expect for that (variable, village) combination under random edge formation\n",
    "- Then compute the observed homophily for the (village, variable)\n",
    "- Finally, make a statement about whether or not your provide evidence that there is a greater than random degree of homophily. Refer to the lecture on homophily to review how to make this decision.\n",
    "\n",
    "Include any other analysis or results you feel would strengthen your argument."
   ]
  },
  {
   "cell_type": "code",
   "execution_count": null,
   "id": "515c3a42",
   "metadata": {
    "deletable": false,
    "nbgrader": {
     "cell_type": "code",
     "checksum": "b2c4379a6513d1aace403a9c41e436d9",
     "grade": false,
     "grade_id": "cell-7d350d48aba5ee7a",
     "locked": false,
     "schema_version": 3,
     "solution": true,
     "task": false
    }
   },
   "outputs": [],
   "source": [
    "# YOUR CODE HERE\n",
    "raise NotImplementedError()"
   ]
  },
  {
   "cell_type": "code",
   "execution_count": null,
   "id": "3bcdfcc3",
   "metadata": {},
   "outputs": [],
   "source": []
  }
 ],
 "metadata": {
  "kernelspec": {
   "display_name": "css",
   "language": "python",
   "name": "css"
  },
  "language_info": {
   "codemirror_mode": {
    "name": "ipython",
    "version": 3
   },
   "file_extension": ".py",
   "mimetype": "text/x-python",
   "name": "python",
   "nbconvert_exporter": "python",
   "pygments_lexer": "ipython3",
   "version": "3.9.2"
  }
 },
 "nbformat": 4,
 "nbformat_minor": 5
}
