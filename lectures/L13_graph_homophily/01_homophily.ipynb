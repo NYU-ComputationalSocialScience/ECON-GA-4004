{
 "cells": [
  {
   "cell_type": "markdown",
   "metadata": {
    "slideshow": {
     "slide_type": "slide"
    },
    "tags": []
   },
   "source": [
    "# Homophily\n",
    "\n",
    "**Prerequisites**\n",
    "\n",
    "- Introduction to Graphs\n",
    "- Strong and Weak Ties\n",
    "\n",
    "**Outcomes**\n",
    "\n",
    "- Understand the concept of homophily\n",
    "- Practice working through \"by hand\" examples of diagnosing homophily\n",
    "- Be prepared to computationally diagnose homophily in a large network\n",
    "\n",
    "**References**\n",
    "\n",
    "- [Easley and Kleinberg](https://www.cs.cornell.edu/home/kleinber/networks-book/) chapter 4 (especially section 4.1)"
   ]
  },
  {
   "cell_type": "code",
   "execution_count": null,
   "metadata": {},
   "outputs": [],
   "source": [
    "import networkx as nx\n",
    "import pandas as pd\n",
    "%matplotlib inline"
   ]
  },
  {
   "cell_type": "markdown",
   "metadata": {
    "slideshow": {
     "slide_type": "slide"
    },
    "tags": []
   },
   "source": [
    "## Main Idea\n",
    "\n",
    "- Consider your friends. Do they tend to \n",
    "  - Enjoy the same movies, music, hobbies as you?\n",
    "  - Hold similar religous or political beliefs?\n",
    "  - Come from simliar schools, workplaces, or socio-economic settings?\n",
    "- What about a random sample of people in the world?\n",
    "- If you are like me, your answers likely indicate that you have more in common with your friends than you would expect to have with a random sample of people\n",
    "- This concept -- that we are similar to our friends -- is called **homophily**"
   ]
  },
  {
   "cell_type": "markdown",
   "metadata": {
    "slideshow": {
     "slide_type": "slide"
    },
    "tags": []
   },
   "source": [
    "## Homophily in Graphs\n",
    "\n",
    "- In the context of graphs or networks, homophily means that nodes that are connected are *more similar* than nodes at a further distance in the graph\n",
    "- But what do we mean by *more similar*?\n",
    "  - Idea: We might have common friends. \n",
    "    - This is an **intrinsic** force that led to node formation (e.g. triadic closure)\n",
    "  - Alternative: We may share characteristics or properties that are not represented in the graph -- **external** forces. \n",
    "    - Examples: same race, gender, school, employer, sports team, etc.\n",
    "- These external forces are what homophily captures"
   ]
  },
  {
   "cell_type": "markdown",
   "metadata": {
    "slideshow": {
     "slide_type": "subslide"
    },
    "tags": []
   },
   "source": [
    "## Context\n",
    "\n",
    "- To identify if homophily is active in a network, we must have access to **context** on top of list of nodes and edges\n",
    "- One way to represent this context would be with a DataFrame in addition to a graph:\n",
    "  - One row per node\n",
    "  - One column indicating the node identifier (or just use row number)\n",
    "  - One column for additional characteristic"
   ]
  },
  {
   "cell_type": "code",
   "execution_count": null,
   "metadata": {
    "slideshow": {
     "slide_type": "subslide"
    },
    "tags": []
   },
   "outputs": [],
   "source": [
    "df1 = pd.DataFrame(dict(\n",
    "    node_id=[\"Spencer\", \"Shannen\", \"Brinley\", \"MJ\", \"LeBron\"],\n",
    "    favorite_color=[\"blue\", \"pink\", \"pink\", \"red\", \"blue\"],\n",
    "    school=[\"nyu\", \"byu\", \"wes\", \"unc\", \"hs\"],\n",
    "    sport=[\"volleyball\", \"wakeboarding\", \"wakeboarding\", \"basketball\", \"basketball\"],\n",
    "    favorite_food=[\"pizza\", \"burger\", \"pizza\", \"burger\", \"ice cream\"],\n",
    "    gender=['M', 'F', 'F', 'M', 'M'],\n",
    "))\n",
    "df1"
   ]
  },
  {
   "cell_type": "code",
   "execution_count": null,
   "metadata": {
    "slideshow": {
     "slide_type": "subslide"
    },
    "tags": []
   },
   "outputs": [],
   "source": [
    "g1 = nx.Graph([\n",
    "    (\"Spencer\", \"Shannen\"), (\"Spencer\", \"Brinley\"), (\"Spencer\", \"LeBron\"),\n",
    "    (\"Shannen\", \"Brinley\"), (\"Shannen\", \"MJ\"), (\"LeBron\", \"MJ\")\n",
    "])\n",
    "nx.draw(g1, with_labels=True, node_size=2000)"
   ]
  },
  {
   "cell_type": "markdown",
   "metadata": {
    "slideshow": {
     "slide_type": "slide"
    },
    "tags": []
   },
   "source": [
    "## Measuring Homophily\n",
    "\n",
    "- Our discussion on homophily so far has been conceptual... let's make it precise\n",
    "- We'll frame the discussion in terms of a null hypothesis\n",
    "- Concept should be familiar from statistics, but not exactly the same we we won't make distributional assumptions"
   ]
  },
  {
   "cell_type": "markdown",
   "metadata": {
    "slideshow": {
     "slide_type": "subslide"
    },
    "tags": []
   },
   "source": [
    "### Random Homophily\n",
    "\n",
    "- Our analytical approach begins with a thought experiment (counter factual) that all edges are randomly formed\n",
    "- In this case, we should not expect the context around our graph to help us predict its structure\n",
    "- Suppose we consider a characteristic $X$\n",
    "- We have $N$ nodes and $N_x$ of them exhibit feature $X$ and $N - N_x$ of them to not\n",
    "  - We'll work with probabilities: $p_x = \\frac{N_x}{N}$\n",
    "- The probability that an arbitrary edge is between two nodes that both share $X$ is equal to $p_x^2$\n",
    "  - Probability of edge between two non $X$ nodes: $(1-p_x)^2$\n",
    "  - Probabillity of edge bewtween one $X$ and one non $X$: \n",
    "$$\\begin{aligned}\\text{prob}(\\text{edge (X <=> not X)}) &= p_x (1-p_x) + (1-p_x) p_x \\\\ &= 2 p_x (1-p_x)\\end{aligned}$$\n",
    "- This will be our \"random edge formation\" benchmark"
   ]
  },
  {
   "cell_type": "markdown",
   "metadata": {
    "slideshow": {
     "slide_type": "subslide"
    },
    "tags": []
   },
   "source": [
    "### Counting Frequencies\n",
    "\n",
    "- Now an empirical value...\n",
    "- Let there be $e$ edges\n",
    "- Let...\n",
    "\n",
    "| variable | meaning |\n",
    "|----------|---------|\n",
    "| $e_{xx}$ | # edges between 2 $X$ |\n",
    "| $e_{yy}$ | # edges between 2 not $X$ |\n",
    "| $e_{xy}$ | # edges between 1 $X$  and 1 not $X$|\n",
    "\n",
    "\n",
    "\n",
    "\n",
    "- Then $e = e_{xx} + e_{yy} + e_{xy}$\n",
    "- We'll use these 4 numbers to count frequencies of edges between $X$ types and non-$X$ types"
   ]
  },
  {
   "cell_type": "markdown",
   "metadata": {
    "slideshow": {
     "slide_type": "subslide"
    },
    "tags": []
   },
   "source": [
    "### Testing for Homophily\n",
    "\n",
    "- We are now ready to test for homophily\n",
    "- We'll consider the assumption (null hypothesis) that there is no homophily in characteristic $X$\n",
    "    - $\\Longrightarrow$ observed proportion of cross-characteristic edges is (approximately) the same as characteristic frequencies in the full population\n",
    "- To test this assumption, we compare\n",
    "  - $2 p_x(1-p_x)$: the likelihood of a cross-characteristic edge forming, under the assumption of purely random edge formation\n",
    "  - $\\frac{e_{xy}}{e}$: the proportion of cross-characteristic edges that exist in the network\n",
    "- When comparing these statistics, we could get one of three outcomes:\n",
    "\n",
    "| Condition | result |\n",
    "| --------- | ------ |\n",
    "| $$\\frac{e_{xy}}{e} >> 2 p_x(1-p_x)$$ | inverse homophily |\n",
    "| $$\\frac{e_{xy}}{e} \\approx 2 p_x(1-p_x)$$ | no homophily |\n",
    "| $$\\frac{e_{xy}}{e} << 2 p_x(1-p_x)$$ | homophily |\n",
    " \n",
    "- Intuition: If observed cross characteristic edge formation is significantly less than what we'd expected under random edge formation, we reject the hypothesis that homophily is not present, and conclude that characteristic $X$ is meaningful for edge formation"
   ]
  },
  {
   "cell_type": "markdown",
   "metadata": {
    "slideshow": {
     "slide_type": "slide"
    },
    "tags": []
   },
   "source": [
    "### Example: high school relationships\n",
    "\n",
    "- Recall the graph of romantic relationships between high school students\n",
    "- **Question**: does this graph exhibit homophily in gender? Why?\n",
    "\n",
    "![./hs_dating_graph.png](./hs_dating_graph.png)"
   ]
  },
  {
   "cell_type": "markdown",
   "metadata": {
    "slideshow": {
     "slide_type": "slide"
    },
    "tags": []
   },
   "source": [
    "## Example: Lyon and All Stars\n",
    "\n",
    "- Let's work through an example of numerically dianosing homophily using our made up data\n",
    "- I'll repeat it below"
   ]
  },
  {
   "cell_type": "code",
   "execution_count": null,
   "metadata": {},
   "outputs": [],
   "source": [
    "df1"
   ]
  },
  {
   "cell_type": "code",
   "execution_count": null,
   "metadata": {},
   "outputs": [],
   "source": [
    "nx.draw(g1, with_labels=True, node_size=2000)"
   ]
  },
  {
   "cell_type": "markdown",
   "metadata": {
    "slideshow": {
     "slide_type": "subslide"
    },
    "tags": []
   },
   "source": [
    "### Step 1: Counting frequencies\n",
    "\n",
    "- First we need to count frequencies for all our characteristics\n",
    "- We'll do that here"
   ]
  },
  {
   "cell_type": "code",
   "execution_count": null,
   "metadata": {},
   "outputs": [],
   "source": [
    "from collections import Counter\n",
    "def count_frequencies(vals: list):\n",
    "    counts = Counter(vals)  # N_x for all x that appear in vals\n",
    "    total = len(vals)   # N\n",
    "    return {c: v / total for (c, v) in counts.items()} # N_x / N"
   ]
  },
  {
   "cell_type": "code",
   "execution_count": null,
   "metadata": {},
   "outputs": [],
   "source": [
    "count_frequencies(df1.gender)"
   ]
  },
  {
   "cell_type": "code",
   "execution_count": null,
   "metadata": {},
   "outputs": [],
   "source": [
    "{col: count_frequencies(df1[col]) for col in list(df1)}"
   ]
  },
  {
   "cell_type": "markdown",
   "metadata": {
    "slideshow": {
     "slide_type": "subslide"
    },
    "tags": []
   },
   "source": [
    "### Step 2: Counting Edges\n",
    "\n",
    "- Next we need to count the number of edges of each type\n",
    "- This step is a bit tricker as it will require that we access both data from the Graph and the DataFrame\n",
    "- To not spoil the fun, we'll leave this code as an exercise on the homework\n",
    "- For now we'll look at things \"by hand\""
   ]
  },
  {
   "cell_type": "markdown",
   "metadata": {
    "slideshow": {
     "slide_type": "subslide"
    },
    "tags": []
   },
   "source": [
    "- Let's consider favorite_color and test if edges form based on favorite color being blue\n",
    "- There are 6 total edges (e)\n",
    "- Of these, 5 are cross edges $(e_{xy})$\n",
    "- The ratio of cross edges is 5/6\n",
    "- The ratio of nodes that like blue is 2/5 ($p_x$)"
   ]
  },
  {
   "cell_type": "code",
   "execution_count": null,
   "metadata": {},
   "outputs": [],
   "source": [
    "e = len(g1.edges)\n",
    "exy = 5\n",
    "n_blue = 2\n",
    "N = len(g1.nodes)\n",
    "px = n_blue / N\n",
    "\n",
    "# test\n",
    "2 * px * (1-px), exy/e"
   ]
  },
  {
   "cell_type": "markdown",
   "metadata": {},
   "source": [
    "- Here we have that **more** cross edges formed than we would expect \n",
    "- An instance of *inverse homophily* (opposites attract)"
   ]
  },
  {
   "cell_type": "markdown",
   "metadata": {
    "slideshow": {
     "slide_type": "subslide"
    },
    "tags": []
   },
   "source": [
    "### Exercise\n",
    "\n",
    "- Repeat the counting exercise, but for the gender and favorite sport characteristics\n",
    "- What do you find? Do either of these characteristcs exhibit homophily?"
   ]
  },
  {
   "cell_type": "code",
   "execution_count": null,
   "metadata": {},
   "outputs": [],
   "source": [
    "def test_homophily(graph, df, column):\n",
    "    \"\"\"\n",
    "    Test for homophily in graph, based on df[column]\n",
    "    \n",
    "    Returns 2 px (1-px) AND exy / e\n",
    "    \"\"\"\n",
    "    pass"
   ]
  }
 ],
 "metadata": {
  "interpreter": {
   "hash": "06e05088bf2d2704501f452c5673235c92421ea24b381cad1d147a1ece3057ad"
  },
  "kernelspec": {
   "display_name": "css",
   "language": "python",
   "name": "css"
  },
  "language_info": {
   "codemirror_mode": {
    "name": "ipython",
    "version": 3
   },
   "file_extension": ".py",
   "mimetype": "text/x-python",
   "name": "python",
   "nbconvert_exporter": "python",
   "pygments_lexer": "ipython3",
   "version": "3.9.2"
  },
  "rise": {
   "scroll": true
  }
 },
 "nbformat": 4,
 "nbformat_minor": 4
}
