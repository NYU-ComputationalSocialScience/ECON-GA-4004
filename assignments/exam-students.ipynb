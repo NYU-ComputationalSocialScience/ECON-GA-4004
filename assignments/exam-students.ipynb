{
 "cells": [
  {
   "cell_type": "markdown",
   "id": "82566a1a",
   "metadata": {},
   "source": [
    "# Exam:\n",
    "\n",
    "## Class: ECON-GA-4004\n",
    "\n",
    "This exam is meant to be an opportunity to strengthen your understanding of the topics that we have covered in this course.\n",
    "\n",
    "We hope that in addition to applying what you have learned that you also have some fun.\n",
    "\n",
    "You are welcome to use books, notes, and any existing materials that you find on the internet, but we ask that:\n",
    "\n",
    "1. You do not ask any new specific questions on any online forums.\n",
    "2. You do not collaborate with your classmates (or anyone else).\n",
    "\n",
    "**Name**: \\<INSERT YOUR NAME HERE\\>"
   ]
  },
  {
   "cell_type": "code",
   "execution_count": null,
   "id": "ace3f17c",
   "metadata": {},
   "outputs": [],
   "source": [
    "import matplotlib.pyplot as plt\n",
    "import numpy as np\n",
    "\n",
    "%matplotlib inline"
   ]
  },
  {
   "cell_type": "markdown",
   "id": "335fee40",
   "metadata": {},
   "source": [
    "## Asset pricing (40 points)\n",
    "\n",
    "Please recall the **fundamental  equation of asset pricing theory**:\n",
    "\n",
    "$$E[ m R^i] = 1 \\tag{1}$$\n",
    "\n",
    "where\n",
    "\n",
    "\\begin{align*}\n",
    "  E[m R^i] &=1 \\quad \\text { for } i=1, \\ldots, I \\\\\n",
    "  m &= \\text{ a stochastic discount factor } \\\\\n",
    "  R^{i} &= \\text { gross return on asset $i$, $i=1, \\ldots, I$ } \\\\\n",
    "  E &\\equiv \\text { mathematical expectation }\n",
    "\\end{align*}\n",
    "\n",
    "and where we assume that $m$ and $R^i, i = 1, \\ldots, I$ all have finite variances."
   ]
  },
  {
   "cell_type": "markdown",
   "id": "a829bd96",
   "metadata": {},
   "source": [
    "**Question 1** (15 points):\n",
    "\n",
    "Let $R^f$ be the gross return on a **risk-free** security, meaning that it is a **constant** that is known for sure and uncorrelated with gross returns on all other securities and with the stochastic discount factor.  Please use the fundamental asset pricing equation (1) to derive a formula for $R^f$ in terms the mean and variance of the stochastic discount factor $m$."
   ]
  },
  {
   "cell_type": "markdown",
   "id": "366b90f2",
   "metadata": {},
   "source": []
  },
  {
   "cell_type": "markdown",
   "id": "37ede95a",
   "metadata": {},
   "source": [
    "**Question 2** (15 points):\n",
    "\n",
    "Please use the fundamental asset pricing equation (1) to derive the following formula for the expected value of the **excess return** $R^i - R^f$:\n",
    "\n",
    "$$E R^{i}-R^{f} = -\\operatorname{cov}\\left(m, R^{i}\\right) R^{f} \\tag{2} $$\n",
    "\n",
    "where $\\operatorname{cov}\\left(m, R^{i}\\right)$ is the covariance between $m$ and $R^i$.  "
   ]
  },
  {
   "cell_type": "markdown",
   "id": "bb884c88",
   "metadata": {},
   "source": []
  },
  {
   "cell_type": "markdown",
   "id": "30e15b01",
   "metadata": {},
   "source": [
    "**Question 3** (5 points):\n",
    "\n",
    "Please use equation (2) to interpret  Lars Peter Hansen's statement  that   \"asset pricing theory is all about covariances (and rearranging their implications)\". "
   ]
  },
  {
   "cell_type": "markdown",
   "id": "c9416dbb",
   "metadata": {},
   "source": []
  },
  {
   "cell_type": "markdown",
   "id": "f3c45ed1",
   "metadata": {},
   "source": [
    "**Question 4** (5 points):\n",
    "\n",
    "Please use equation (2) and properties that you know about variances and covariances to derive the **mean-variance frontier** of asset pricing theory."
   ]
  },
  {
   "cell_type": "markdown",
   "id": "9f44e3dd",
   "metadata": {},
   "source": []
  },
  {
   "cell_type": "markdown",
   "id": "cc0fca67",
   "metadata": {},
   "source": [
    "## Dynamic programming (45 points)\n",
    "\n",
    "We consider an infinite time horizon model, i.e. $t = 0, 1, 2, 3\\dots$\n",
    "\n",
    "At $t = 0$ the agent is given a cake with size $\\bar{x}$.\n",
    "\n",
    "The agent must choose how much cake to consume at each time period ($c_t$). The amount of cake that the agent has tomorrow is a random variable that depends on the amount of cake remaining after consumption today.\n",
    "\n",
    "$$x_{t+1} = \\begin{cases} 0.95 (x_t - c_t) \\text{ with probability 0.3} \\\\ 1.02 (x_t - c_t) \\text{ with probability 0.7} \\end{cases}$$\n",
    "\n",
    "Consuming quantity $c_t$ of the cake gives current utility $u(c_t)$.\n",
    "\n",
    "The agent discounts the future with discount factor $\\beta$ so that their total utility over the infinite time horizon is\n",
    "\n",
    "$$v(\\bar{x}) = \\sum_{t=0}^{\\infty} \\beta^t u(c_t)$$\n",
    "\n",
    "We stick with the commonly used CRRA utility function\n",
    "\n",
    "$$u(c) = \\frac{c^{1-\\gamma}}{1-\\gamma}$$\n",
    "\n",
    "Use $\\bar{x} = 5$, $\\gamma = 2$, $\\beta = 0.9$ as the parameters of your model"
   ]
  },
  {
   "cell_type": "markdown",
   "id": "ff02e085",
   "metadata": {},
   "source": [
    "**Question 5** (10 points):\n",
    "\n",
    "Write the Bellman equation."
   ]
  },
  {
   "cell_type": "markdown",
   "id": "a343be44",
   "metadata": {},
   "source": []
  },
  {
   "cell_type": "markdown",
   "id": "0c8f4593",
   "metadata": {},
   "source": [
    "**Question 6** (20 points):\n",
    "\n",
    "Numerically compute the policy function and the value function using either value function iteration or policy iteration.\n",
    "\n",
    "You should use piecewise-linear interpolation to evaluate the functions at points not on the grid."
   ]
  },
  {
   "cell_type": "code",
   "execution_count": null,
   "id": "646346e3",
   "metadata": {},
   "outputs": [],
   "source": []
  },
  {
   "cell_type": "markdown",
   "id": "dc63be22",
   "metadata": {},
   "source": [
    "**Question 7** (10 points)\n",
    "\n",
    "Plot the policy function and value function"
   ]
  },
  {
   "cell_type": "code",
   "execution_count": null,
   "id": "07a53f31",
   "metadata": {},
   "outputs": [],
   "source": []
  },
  {
   "cell_type": "markdown",
   "id": "752564ce",
   "metadata": {},
   "source": [
    "**Question 8** (5 points)\n",
    "\n",
    "How much of their initial endowment would the agent be willing to surrender in return for an additional 0.1 consumption in every period (forever)?\n",
    "\n",
    "_Hint 1_: This is a difficult question. We think it's an interesting question, but, if you are running low on time, then we recommend that you skip it and come back to it.\n",
    "\n",
    "_Hint 2_: You'll need to compute a new value function where the individual is given 0.1 consumption (in addition to what they choose to consume) in every period."
   ]
  },
  {
   "cell_type": "code",
   "execution_count": null,
   "id": "71712701",
   "metadata": {},
   "outputs": [],
   "source": []
  },
  {
   "cell_type": "markdown",
   "id": "3f1c0241",
   "metadata": {},
   "source": [
    "## Stationarize the data (40 points)\n",
    "\n",
    "In this question, we ask you to determine whether a time-series dataset is stationary and, if it isn't, to stationarize it.\n",
    "\n",
    "Please note that it is okay to just eyeball these time-series datasets and we don't expect you to statistically determine whether they are stationary or not.\n",
    "\n",
    "They will all take some form that we covered in class (or a combination thereof). For a reminder on what these might look like you can refer to the time-series [notebook](https://github.com/NYU-ComputationalSocialScience/ECON-GA-4004/blob/main/lectures/L06_time_series/02_timeseries.ipynb).\n",
    "\n",
    "_Hint_: After you stationarize each of the non-stationary time-series datasets, they will have the same stationary component :)\n"
   ]
  },
  {
   "cell_type": "markdown",
   "id": "f9ca73a5",
   "metadata": {},
   "source": [
    "**Dataset 1** (10 points)"
   ]
  },
  {
   "cell_type": "markdown",
   "id": "c349a775",
   "metadata": {},
   "source": []
  },
  {
   "cell_type": "code",
   "execution_count": null,
   "id": "79bbb122",
   "metadata": {},
   "outputs": [],
   "source": [
    "# Load dataset 1\n",
    "ds1 = np.loadtxt(\"dataset1.csv\")\n",
    "\n",
    "plt.plot(ds1)"
   ]
  },
  {
   "cell_type": "markdown",
   "id": "870a1c86",
   "metadata": {},
   "source": [
    "_Is it stationary? If not, please write the code necessary to stationarize the data and plot the now stationary data_"
   ]
  },
  {
   "cell_type": "code",
   "execution_count": null,
   "id": "927b063b",
   "metadata": {},
   "outputs": [],
   "source": [
    "# Find the stationary component"
   ]
  },
  {
   "cell_type": "markdown",
   "id": "9282e2f0",
   "metadata": {},
   "source": [
    "**Dataset 2** (10 points)"
   ]
  },
  {
   "cell_type": "code",
   "execution_count": null,
   "id": "738e9ace",
   "metadata": {},
   "outputs": [],
   "source": [
    "# Load dataset 2\n",
    "ds2  = np.loadtxt(\"dataset2.csv\")\n",
    "\n",
    "plt.plot(ds2)"
   ]
  },
  {
   "cell_type": "markdown",
   "id": "e4d2b386",
   "metadata": {},
   "source": [
    "_Is it stationary? If not, please write the code necessary to stationarize the data and plot the now stationary data_"
   ]
  },
  {
   "cell_type": "code",
   "execution_count": null,
   "id": "c8ccbb73",
   "metadata": {},
   "outputs": [],
   "source": [
    "# Find the stationary component"
   ]
  },
  {
   "cell_type": "markdown",
   "id": "5ec05d6a",
   "metadata": {},
   "source": [
    "**Dataset 3** (10 points)"
   ]
  },
  {
   "cell_type": "code",
   "execution_count": null,
   "id": "092b536d",
   "metadata": {},
   "outputs": [],
   "source": [
    "# Load dataset 3\n",
    "ds3  = np.loadtxt(\"dataset3.csv\")\n",
    "\n",
    "plt.plot(ds3)"
   ]
  },
  {
   "cell_type": "markdown",
   "id": "c8deaec4",
   "metadata": {},
   "source": [
    "_Is it stationary? If not, please write the code necessary to stationarize the data and plot the now stationary data_"
   ]
  },
  {
   "cell_type": "code",
   "execution_count": null,
   "id": "e35fb5b0",
   "metadata": {},
   "outputs": [],
   "source": [
    "# Find the stationary component"
   ]
  },
  {
   "cell_type": "markdown",
   "id": "123c359a",
   "metadata": {},
   "source": [
    "**Dataset 4** (10 points)"
   ]
  },
  {
   "cell_type": "code",
   "execution_count": null,
   "id": "5229fbae",
   "metadata": {},
   "outputs": [],
   "source": [
    "# Load dataset 4\n",
    "ds4  = np.loadtxt(\"dataset4.csv\")\n",
    "\n",
    "plt.plot(ds4)"
   ]
  },
  {
   "cell_type": "markdown",
   "id": "ebec82a6",
   "metadata": {},
   "source": [
    "_Is it stationary? If not, please write the code necessary to stationarize the data and plot the now stationary data_"
   ]
  },
  {
   "cell_type": "code",
   "execution_count": null,
   "id": "26756619",
   "metadata": {},
   "outputs": [],
   "source": [
    "# Find the stationary component"
   ]
  }
 ],
 "metadata": {
  "kernelspec": {
   "display_name": "Python 3",
   "language": "python",
   "name": "python3"
  },
  "language_info": {
   "codemirror_mode": {
    "name": "ipython",
    "version": 3
   },
   "file_extension": ".py",
   "mimetype": "text/x-python",
   "name": "python",
   "nbconvert_exporter": "python",
   "pygments_lexer": "ipython3",
   "version": "3.8.8"
  }
 },
 "nbformat": 4,
 "nbformat_minor": 5
}
