{
 "cells": [
  {
   "cell_type": "markdown",
   "id": "e64f56fa",
   "metadata": {},
   "source": [
    "# Exam:\n",
    "\n",
    "## Class: ECON-GA-4004\n",
    "\n",
    "This exam is meant to be an opportunity to strengthen your understanding of the topics that we have covered in this course.\n",
    "\n",
    "We hope that in addition to applying what you have learned that you also have some fun.\n",
    "\n",
    "You are welcome to use books, notes, and any existing materials that you find on the internet, but we ask that:\n",
    "\n",
    "1. You do not ask any new specific questions on any online forums.\n",
    "2. You do not collaborate with your classmates (or anyone else).\n",
    "\n",
    "**Name**: \\<INSERT YOUR NAME HERE\\>"
   ]
  },
  {
   "cell_type": "code",
   "execution_count": null,
   "id": "a9c99b6e",
   "metadata": {},
   "outputs": [],
   "source": [
    "import matplotlib.pyplot as plt\n",
    "import numpy as np\n",
    "\n",
    "%matplotlib inline"
   ]
  },
  {
   "cell_type": "markdown",
   "id": "335fee40",
   "metadata": {},
   "source": [
    "## Asset pricing (40 points)\n",
    "\n",
    "Please recall the **fundamental  equation of asset pricing theory**:\n",
    "\n",
    "$$E[ m R^i] = 1 \\tag{1}$$\n",
    "\n",
    "where\n",
    "\n",
    "\\begin{align*}\n",
    "  E[m R^i] &=1 \\quad \\text { for } i=1, \\ldots, I \\\\\n",
    "  m &= \\text{ a stochastic discount factor } \\\\\n",
    "  R^{i} &= \\text { gross return on asset $i$, $i=1, \\ldots, I$ } \\\\\n",
    "  E &\\equiv \\text { mathematical expectation }\n",
    "\\end{align*}\n",
    "\n",
    "and where we assume that $m$ and $R^i, i = 1, \\ldots, I$ all have finite variances."
   ]
  },
  {
   "cell_type": "markdown",
   "id": "a829bd96",
   "metadata": {},
   "source": [
    "**Question 1** (15 points):\n",
    "\n",
    "Let $R^f$ be the gross return on a **risk-free** security, meaning that it is a **constant** that is known for sure and uncorrelated with gross returns on all other securities and with the stochastic discount factor.  Please use the fundamental asset pricing equation (1) to derive a formula for $R^f$ in terms the mean and variance of the stochastic discount factor $m$."
   ]
  },
  {
   "cell_type": "markdown",
   "id": "366b90f2",
   "metadata": {},
   "source": []
  },
  {
   "cell_type": "markdown",
   "id": "37ede95a",
   "metadata": {},
   "source": [
    "**Question 2** (15 points):\n",
    "\n",
    "Please use the fundamental asset pricing equation (1) to derive the following formula for the expected value of the **excess return** $R^i - R^f$:\n",
    "\n",
    "$$E R^{i}-R^{f} = -\\operatorname{cov}\\left(m, R^{i}\\right) R^{f} \\tag{2} $$\n",
    "\n",
    "where $\\operatorname{cov}\\left(m, R^{i}\\right)$ is the covariance between $m$ and $R^i$.  "
   ]
  },
  {
   "cell_type": "markdown",
   "id": "bb884c88",
   "metadata": {},
   "source": []
  },
  {
   "cell_type": "markdown",
   "id": "30e15b01",
   "metadata": {},
   "source": [
    "**Question 3** (5 points):\n",
    "\n",
    "Please use equation (2) to interpret  Lars Peter Hansen's statement  that   \"asset pricing theory is all about covariances (and rearranging their implications)\". "
   ]
  },
  {
   "cell_type": "markdown",
   "id": "c9416dbb",
   "metadata": {},
   "source": []
  },
  {
   "cell_type": "markdown",
   "id": "f3c45ed1",
   "metadata": {},
   "source": [
    "**Question 4** (5 points):\n",
    "\n",
    "Please use equation (2) and properties that you know about variances and covariances to derive the **mean-variance frontier** of asset pricing theory."
   ]
  },
  {
   "cell_type": "markdown",
   "id": "9f44e3dd",
   "metadata": {},
   "source": []
  },
  {
   "cell_type": "markdown",
   "id": "cc0fca67",
   "metadata": {},
   "source": [
    "## Dynamic programming (45 points)\n",
    "\n",
    "We consider an infinite time horizon model, i.e. $t = 0, 1, 2, 3\\dots$\n",
    "\n",
    "At $t = 0$ the agent is given a cake with size $\\bar{x}$.\n",
    "\n",
    "The agent must choose how much cake to consume at each time period ($c_t$). The amount of cake that the agent has tomorrow is a random variable that depends on the amount of cake remaining after consumption today.\n",
    "\n",
    "$$x_{t+1} = \\begin{cases} 0.95 (x_t - c_t) \\text{ with probability 0.3} \\\\ 1.02 (x_t - c_t) \\text{ with probability 0.7} \\end{cases}$$\n",
    "\n",
    "Consuming quantity $c_t$ of the cake gives current utility $u(c_t)$.\n",
    "\n",
    "The agent discounts the future with discount factor $\\beta$ so that their total utility over the infinite time horizon is\n",
    "\n",
    "$$v(\\bar{x}) = \\sum_{t=0}^{\\infty} \\beta^t u(c_t)$$\n",
    "\n",
    "$$v(\\bar{x}) = u(c_t) + \\beta \\sum_{t=0}^{\\infty} \\beta^t u(c_{t+1})$$\n",
    "\n",
    "We stick with the commonly used CRRA utility function\n",
    "\n",
    "$$u(c) = \\frac{c^{1-\\gamma}}{1-\\gamma}$$\n",
    "\n",
    "Use $\\bar{x} = 5$, $\\gamma = 2$, $\\beta = 0.9$ as the parameters of your model"
   ]
  },
  {
   "cell_type": "markdown",
   "id": "ff02e085",
   "metadata": {},
   "source": [
    "**Question 5** (10 points):\n",
    "\n",
    "Write the Bellman equation."
   ]
  },
  {
   "cell_type": "markdown",
   "id": "a343be44",
   "metadata": {},
   "source": [
    "\\begin{align*}\n",
    "  v(x_t) &= u(c_t) + \\beta E \\left[v(x_{t+1}) \\right] \\\\\n",
    "  v(x_t) &= u(c_t) + \\beta \\left[ 0.70 \\times v(1.02(x_t - c_t)) + 0.30 v(0.95(x_t - c_t))\\right] \\\\\n",
    "\\end{align*}"
   ]
  },
  {
   "cell_type": "markdown",
   "id": "0c8f4593",
   "metadata": {},
   "source": [
    "**Question 6** (20 points):\n",
    "\n",
    "Numerically compute the policy function and the value function using either value function iteration or policy iteration.\n",
    "\n",
    "You should use piecewise-linear interpolation to evaluate the functions at points not on the grid."
   ]
  },
  {
   "cell_type": "code",
   "execution_count": null,
   "id": "646346e3",
   "metadata": {},
   "outputs": [],
   "source": [
    "import matplotlib.pyplot as plt\n",
    "import numpy as np\n",
    "import scipy.interpolate as interp\n",
    "import scipy.optimize as opt\n",
    "\n",
    "# Define class for convenience of methods and parameter passing\n",
    "class CakeEating(object):\n",
    "    def __init__(self, beta=0.9, gamma=2.0, xbar=5.0, nx=75):\n",
    "        self.beta = beta\n",
    "        self.gamma = gamma\n",
    "        self.xbar = xbar\n",
    "        self.xgrid = np.linspace(1e-2, xbar, nx)\n",
    "\n",
    "    def u(self, c):\n",
    "        return c**(1 - self.gamma) / (1 - self.gamma)\n",
    "\n",
    "    def action_state_value(self, c, x, v):\n",
    "        \"\"\"\n",
    "        Given a value function, `v`, computes\n",
    "        the value of taking action `c` for\n",
    "        state `x`\n",
    "        \"\"\"\n",
    "        return self.u(c) + self.beta*(0.70*v(1.02*(x-c)) + 0.30*v(0.95*(x-c)))"
   ]
  },
  {
   "cell_type": "code",
   "execution_count": null,
   "id": "fea13154",
   "metadata": {},
   "outputs": [],
   "source": [
    "model = CakeEating()"
   ]
  },
  {
   "cell_type": "code",
   "execution_count": null,
   "id": "0474ef3d",
   "metadata": {},
   "outputs": [],
   "source": [
    "def bellman_equation(ce, x, v):\n",
    "    \"\"\"\n",
    "    Given a value function `v`, computes the maximum value\n",
    "    associated with being in state x.\n",
    "    \n",
    "    For convenience, it also returns the optimal decision made\n",
    "    \"\"\"\n",
    "    # Optimize \n",
    "    sol = opt.minimize_scalar(\n",
    "        lambda c: -ce.action_state_value(c, x, v),\n",
    "        bounds=(1e-8, x-1e-10), method=\"bounded\"\n",
    "    )\n",
    "\n",
    "    return sol.x, -sol.fun\n",
    "\n",
    "\n",
    "def value_iteration(ce):\n",
    "    \"\"\"\n",
    "    Computes the optimal policy function and value function\n",
    "    via value iteration\n",
    "    \"\"\"\n",
    "    v_np1 = np.zeros_like(ce.xgrid)\n",
    "    v_n = v_np1.copy() + 100.0\n",
    "    c_star = np.zeros_like(ce.xgrid)\n",
    "\n",
    "    dist = 100.0\n",
    "    citer = 0\n",
    "    while dist > 1e-3:\n",
    "        citer += 1\n",
    "        if citer % 25 == 0:\n",
    "            print(f\"Current iteration: {citer}\")\n",
    "            print(f\"Current distance: {dist}\")\n",
    "\n",
    "        # Create interpolator\n",
    "        np.copyto(v_n, v_np1)\n",
    "        v = interp.interp1d(\n",
    "            ce.xgrid, v_n,\n",
    "            fill_value=\"extrapolate\"\n",
    "        )\n",
    "\n",
    "        for (i, x) in enumerate(ce.xgrid):\n",
    "            _c, _v = bellman_equation(ce, x, v)\n",
    "            c_star[i] = _c\n",
    "            v_np1[i] = _v\n",
    "        dist = np.max(np.abs(v_np1 - v_n))\n",
    "    \n",
    "    return c_star, v_np1"
   ]
  },
  {
   "cell_type": "code",
   "execution_count": null,
   "id": "6812cac1",
   "metadata": {},
   "outputs": [],
   "source": [
    "interp.interp1d?"
   ]
  },
  {
   "cell_type": "code",
   "execution_count": null,
   "id": "2bef5862",
   "metadata": {},
   "outputs": [],
   "source": [
    "value_iteration(model)"
   ]
  },
  {
   "cell_type": "code",
   "execution_count": null,
   "id": "3a567ccb",
   "metadata": {},
   "outputs": [],
   "source": [
    "cstar, vstar = _"
   ]
  },
  {
   "cell_type": "markdown",
   "id": "dc63be22",
   "metadata": {},
   "source": [
    "**Question 7** (10 points)\n",
    "\n",
    "Plot the policy function and value function"
   ]
  },
  {
   "cell_type": "code",
   "execution_count": null,
   "id": "07a53f31",
   "metadata": {},
   "outputs": [],
   "source": [
    "plt.plot(vstar)"
   ]
  },
  {
   "cell_type": "code",
   "execution_count": null,
   "id": "aad3d7b2",
   "metadata": {},
   "outputs": [],
   "source": [
    "plt.plot(cstar)"
   ]
  },
  {
   "cell_type": "markdown",
   "id": "752564ce",
   "metadata": {},
   "source": [
    "**Question 8** (5 points)\n",
    "\n",
    "How much of their initial endowment would the agent be willing to surrender in return for an additional 0.1 consumption in every period (forever)?\n",
    "\n",
    "_Hint 1_: This is a difficult question. We think it's an interesting question, but, if you are running low on time, then we recommend that you skip it and come back to it.\n",
    "\n",
    "_Hint 2_: You'll need to compute a new value function where the individual is given 0.1 consumption (in addition to what they choose to consume) in every period."
   ]
  },
  {
   "cell_type": "code",
   "execution_count": null,
   "id": "71bf736f",
   "metadata": {},
   "outputs": [],
   "source": [
    "model.u(0.1 + 0.05) - model.u(0.05)"
   ]
  },
  {
   "cell_type": "code",
   "execution_count": null,
   "id": "71712701",
   "metadata": {},
   "outputs": [],
   "source": [
    "class CakeEatingDeal(objectct):\n",
    "    def __init__(self, beta=0.9, gamma=2.0, xbar=5.0, nx=75):\n",
    "        self.beta = beta\n",
    "        self.gamma = gamma\n",
    "        self.xbar = xbar\n",
    "        self.xgrid = np.linspace(1e-2, xbar, nx)\n",
    "\n",
    "    def u(self, c):\n",
    "        return c**(1 - self.gamma) / (1 - self.gamma)\n",
    "\n",
    "    def action_state_value(self, c, x, v):\n",
    "        \"\"\"\n",
    "        Given a value function, `v`, computes\n",
    "        the value of taking action `c` for\n",
    "        state `x`\n",
    "        \"\"\"\n",
    "        return self.u(c + 0.1) + self.beta*(0.70*v(1.02*(x-c)) + 0.30*v(0.95*(x-c)))"
   ]
  },
  {
   "cell_type": "code",
   "execution_count": null,
   "id": "c77dd658",
   "metadata": {},
   "outputs": [],
   "source": [
    "model_deal = CakeEatingDeal()\n",
    "\n",
    "cmod, vmod = value_iteration(model_deal)"
   ]
  },
  {
   "cell_type": "code",
   "execution_count": null,
   "id": "7171ada2",
   "metadata": {},
   "outputs": [],
   "source": [
    "np.searchsorted(model.xgrid, 3.0)"
   ]
  },
  {
   "cell_type": "code",
   "execution_count": null,
   "id": "a66f994e",
   "metadata": {},
   "outputs": [],
   "source": [
    "vstar[45]"
   ]
  },
  {
   "cell_type": "code",
   "execution_count": null,
   "id": "44ba4f82",
   "metadata": {},
   "outputs": [],
   "source": [
    "model_deal.xgrid[np.searchsorted(vmod, -118)]"
   ]
  },
  {
   "cell_type": "code",
   "execution_count": null,
   "id": "26eeb43f",
   "metadata": {},
   "outputs": [],
   "source": [
    "vstar"
   ]
  },
  {
   "cell_type": "code",
   "execution_count": null,
   "id": "98e73af2",
   "metadata": {},
   "outputs": [],
   "source": [
    "np.searchsorted?"
   ]
  },
  {
   "cell_type": "code",
   "execution_count": null,
   "id": "eb75c38a",
   "metadata": {},
   "outputs": [],
   "source": [
    "np.searchsorted(vmod, vstar[-1])"
   ]
  },
  {
   "cell_type": "code",
   "execution_count": null,
   "id": "0f65353e",
   "metadata": {},
   "outputs": [],
   "source": [
    "5 - model_deal.xgrid[9]"
   ]
  },
  {
   "cell_type": "markdown",
   "id": "3f1c0241",
   "metadata": {},
   "source": [
    "## Stationarize the data (40 points)\n",
    "\n",
    "In this question, we ask you to determine whether a time-series dataset is stationary and, if it isn't, to stationarize it.\n",
    "\n",
    "Please note that it is okay to just eyeball these time-series datasets and we don't expect you to statistically determine whether they are stationary or not.\n",
    "\n",
    "They will all take some form that we covered in class (or a combination thereof). For a reminder on what these might look like you can refer to the time-series [notebook](https://github.com/NYU-ComputationalSocialScience/ECON-GA-4004/blob/main/lectures/L06_time_series/02_timeseries.ipynb).\n",
    "\n",
    "_Hint_: After you stationarize each of the non-stationary time-series datasets, they will have the same stationary component :)\n"
   ]
  },
  {
   "cell_type": "markdown",
   "id": "0b8adcf9",
   "metadata": {},
   "source": [
    "**Dataset 1** (10 points)"
   ]
  },
  {
   "cell_type": "markdown",
   "id": "0067222c",
   "metadata": {},
   "source": []
  },
  {
   "cell_type": "code",
   "execution_count": null,
   "id": "13a7f7c0",
   "metadata": {},
   "outputs": [],
   "source": [
    "rho = 0.25\n",
    "sc = np.zeros(150)\n",
    "for t in range(149):\n",
    "    sc[t+1] = rho*sc[t] + 0.15*np.random.randn()\n",
    "np.savetxt(\"dataset1.csv\", sc)"
   ]
  },
  {
   "cell_type": "code",
   "execution_count": null,
   "id": "1dcee43d",
   "metadata": {},
   "outputs": [],
   "source": [
    "t = np.arange(150)"
   ]
  },
  {
   "cell_type": "code",
   "execution_count": null,
   "id": "9955980e",
   "metadata": {},
   "outputs": [],
   "source": [
    "# Load dataset 1\n",
    "ds1 = np.loadtxt(\"dataset1.csv\")\n",
    "\n",
    "plt.plot(ds1)"
   ]
  },
  {
   "cell_type": "markdown",
   "id": "3318414f",
   "metadata": {},
   "source": [
    "_Is it stationary_?"
   ]
  },
  {
   "cell_type": "code",
   "execution_count": null,
   "id": "845a9c74",
   "metadata": {},
   "outputs": [],
   "source": [
    "# Find the stationary component"
   ]
  },
  {
   "cell_type": "markdown",
   "id": "635a56b6",
   "metadata": {},
   "source": [
    "**Dataset 2** (10 points)"
   ]
  },
  {
   "cell_type": "code",
   "execution_count": null,
   "id": "f991177e",
   "metadata": {},
   "outputs": [],
   "source": [
    "lt = 0.05*t + sc\n",
    "np.savetxt(\"dataset2.csv\", lt)"
   ]
  },
  {
   "cell_type": "code",
   "execution_count": null,
   "id": "0228c9ac",
   "metadata": {},
   "outputs": [],
   "source": [
    "plt.plot((ds2 - ds2.mean()) / ds2.std())"
   ]
  },
  {
   "cell_type": "code",
   "execution_count": null,
   "id": "0f56acfb",
   "metadata": {},
   "outputs": [],
   "source": [
    "# Load dataset 2\n",
    "ds2  = np.loadtxt(\"dataset2.csv\")\n",
    "\n",
    "plt.plot(ds2)"
   ]
  },
  {
   "cell_type": "markdown",
   "id": "c496cd1b",
   "metadata": {},
   "source": [
    "_Is it stationary?_"
   ]
  },
  {
   "cell_type": "code",
   "execution_count": null,
   "id": "435f15ae",
   "metadata": {},
   "outputs": [],
   "source": [
    "# Find the stationary component"
   ]
  },
  {
   "cell_type": "markdown",
   "id": "5c8fe9db",
   "metadata": {},
   "source": [
    "**Dataset 3** (10 points)"
   ]
  },
  {
   "cell_type": "code",
   "execution_count": null,
   "id": "e04200de",
   "metadata": {},
   "outputs": [],
   "source": [
    "f = 1/12\n",
    "\n",
    "ct = 0.5 + 0.25*np.cos(2*np.pi*f*t) + 0.1*np.sin(2*np.pi*f*t) + sc\n",
    "\n",
    "np.savetxt(\"dataset3.csv\", ct)"
   ]
  },
  {
   "cell_type": "code",
   "execution_count": null,
   "id": "214c1e05",
   "metadata": {},
   "outputs": [],
   "source": [
    "from sklearn import linear_model"
   ]
  },
  {
   "cell_type": "code",
   "execution_count": null,
   "id": "808562b0",
   "metadata": {},
   "outputs": [],
   "source": [
    "_f = 1 / 12\n",
    "\n",
    "x1 = np.cos(2*np.pi*_f*t)\n",
    "x2 = np.sin(2*np.pi*_f*t)\n",
    "\n"
   ]
  },
  {
   "cell_type": "code",
   "execution_count": null,
   "id": "72b0eba5",
   "metadata": {},
   "outputs": [],
   "source": [
    "lm = linear_model.LinearRegression()\n",
    "\n",
    "X = np.hstack([x1[:, None], x2[:, None]])\n",
    "lm.fit(X, ds3)"
   ]
  },
  {
   "cell_type": "code",
   "execution_count": null,
   "id": "f9a6a797",
   "metadata": {},
   "outputs": [],
   "source": [
    "plt.plot((ds3 - ds3.mean()) / ds3.std())"
   ]
  },
  {
   "cell_type": "code",
   "execution_count": null,
   "id": "46644972",
   "metadata": {},
   "outputs": [],
   "source": [
    "lm.coef_"
   ]
  },
  {
   "cell_type": "code",
   "execution_count": null,
   "id": "21f79d6c",
   "metadata": {},
   "outputs": [],
   "source": [
    "plt.plot(ds3 - lm.predict(X))"
   ]
  },
  {
   "cell_type": "code",
   "execution_count": null,
   "id": "06b16e35",
   "metadata": {},
   "outputs": [],
   "source": [
    "import pandas as pd\n",
    "\n",
    "pd.DataFrame(ds3).diff(12).plot()"
   ]
  },
  {
   "cell_type": "code",
   "execution_count": null,
   "id": "05a3130e",
   "metadata": {},
   "outputs": [],
   "source": [
    "# Load dataset 3\n",
    "ds3  = np.loadtxt(\"dataset3.csv\")\n",
    "\n",
    "plt.plot(ds3)"
   ]
  },
  {
   "cell_type": "code",
   "execution_count": null,
   "id": "5179e850",
   "metadata": {},
   "outputs": [],
   "source": []
  },
  {
   "cell_type": "markdown",
   "id": "fd68006a",
   "metadata": {},
   "source": [
    "_Is it stationary?_"
   ]
  },
  {
   "cell_type": "code",
   "execution_count": null,
   "id": "a51f7db1",
   "metadata": {},
   "outputs": [],
   "source": [
    "# Find the stationary component"
   ]
  },
  {
   "cell_type": "markdown",
   "id": "3f1e3643",
   "metadata": {},
   "source": [
    "**Dataset 4** (10 points)"
   ]
  },
  {
   "cell_type": "code",
   "execution_count": null,
   "id": "3e7c98e3",
   "metadata": {},
   "outputs": [],
   "source": [
    "slct = lt + ct + sc\n",
    "\n",
    "np.savetxt(\"dataset4.csv\", slct)"
   ]
  },
  {
   "cell_type": "code",
   "execution_count": null,
   "id": "9684a789",
   "metadata": {},
   "outputs": [],
   "source": [
    "# Load dataset 4\n",
    "ds4  = np.loadtxt(\"dataset4.csv\")\n",
    "\n",
    "plt.plot(ds4)"
   ]
  },
  {
   "cell_type": "markdown",
   "id": "78af004b",
   "metadata": {},
   "source": [
    "_Is it stationary?_"
   ]
  },
  {
   "cell_type": "code",
   "execution_count": null,
   "id": "d0fbc0ed",
   "metadata": {},
   "outputs": [],
   "source": [
    "# Find the stationary component"
   ]
  }
 ],
 "metadata": {
  "kernelspec": {
   "display_name": "Python 3",
   "language": "python",
   "name": "python3"
  },
  "language_info": {
   "codemirror_mode": {
    "name": "ipython",
    "version": 3
   },
   "file_extension": ".py",
   "mimetype": "text/x-python",
   "name": "python",
   "nbconvert_exporter": "python",
   "pygments_lexer": "ipython3",
   "version": "3.8.8"
  }
 },
 "nbformat": 4,
 "nbformat_minor": 5
}
